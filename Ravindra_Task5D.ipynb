{
 "cells": [
  {
   "cell_type": "markdown",
   "metadata": {},
   "source": [
    "**BY - Ravindra Singh**\n",
    "\n",
    "**ID - 225169385**"
   ]
  },
  {
   "cell_type": "markdown",
   "metadata": {},
   "source": [
    "## Introduction/abstract of the task:\n",
    "    \n",
    "The rapid expansion of the urban housing market in Melbourne has made real estate forecasting an essential tool for investors, homebuyers, and policy makers. This project aims to develop an intelligent housing price prediction system using real-world data sourced from realestate.com.au, focusing on three desirable suburbs in Melbourne. The primary objective is to analyze housing price determinants and build accurate regression models capable of estimating property prices based on various features.\n",
    "\n",
    "The workflow begins with data acquisition, where a dataset of at least 150 property listings (50 per suburb) is curated, including features such as property type, number of bedrooms/bathrooms, land size, location, and sale date, with sold price as the target variable.\n",
    "\n",
    "Subsequently, a thorough data preprocessing and exploratory data analysis (EDA) phase is conducted. This includes encoding categorical variables, engineering new features like proximity to amenities (e.g., number of nearby schools), normalizing numerical values, and visualizing patterns such as price distributions, time trends, and correlations. Outlier detection and trend analysis across suburbs are also performed to enrich data understanding.\n",
    "\n",
    "The core of the project involves developing and evaluating multiple regression models, including at least three diverse algorithms such as Linear Regression, Random Forest, and XGBoost. Evaluation is carried out using cross-validation and metrics like MAE, RMSE, and R-squared to ensure model robustness and generalizability.\n",
    "\n",
    "To deepen the insights, feature importance analysis is performed using model-specific techniques and statistical tools like SHAP values to determine the most influential factors affecting housing prices.\n",
    "\n",
    "Finally, a web-based deployment is created using Streamlit or Gradio, offering an interactive interface where users can input property details and receive real-time price predictions. This end-to-end solution not only serves as a predictive tool but also as a practical demonstration of how data science can address real-world real estate challenges."
   ]
  },
  {
   "cell_type": "markdown",
   "metadata": {},
   "source": [
    "## Goal of the Task:\n",
    "**Required to develop a machine learning solution that predicts housing prices in Melbourne using real-world data.**\n",
    "\n",
    "**Steps:**\n",
    "\n",
    "- Collect your own dataset from a real estate website\n",
    "- Clean and analyze the data\n",
    "- Build and compare machine learning models\n",
    "- Evaluate their accuracy\n",
    "- Identify important factors influencing prices\n",
    "- Deploy the best model in a small web application"
   ]
  },
  {
   "cell_type": "markdown",
   "metadata": {},
   "source": [
    "## Import Required Libraries"
   ]
  },
  {
   "cell_type": "code",
   "execution_count": 2,
   "metadata": {},
   "outputs": [],
   "source": [
    "# Import necessary libraries\n",
    "import warnings\n",
    "warnings.filterwarnings(\"ignore\")\n",
    "warnings.filterwarnings(\"ignore\", message=r\"Passing\", category=FutureWarning)\n",
    "import pandas as pd\n",
    "import numpy as np\n",
    "import matplotlib.pyplot as plt\n",
    "import seaborn as sns\n",
    "from PIL import Image \n",
    "import requests\n",
    "from tqdm import tqdm\n",
    "from sklearn.preprocessing import StandardScaler, OneHotEncoder\n",
    "from sklearn.model_selection import KFold, cross_validate\n",
    "from sklearn.linear_model import LinearRegression, Ridge\n",
    "from sklearn.ensemble import RandomForestRegressor, GradientBoostingRegressor\n",
    "from sklearn.metrics import mean_absolute_error, mean_squared_error, r2_score\n",
    "from sklearn.compose import ColumnTransformer\n",
    "from sklearn.pipeline import Pipeline\n",
    "import shap\n",
    "import joblib\n",
    "import pickle"
   ]
  },
  {
   "cell_type": "markdown",
   "metadata": {},
   "source": [
    "**Summary: Imported all necessary libraries for data loading, handling missing values, and visualization.**"
   ]
  },
  {
   "cell_type": "markdown",
   "metadata": {},
   "source": [
    "## 1. Melbourne Housing Data acquisition:\n",
    "\n",
    "**Objective:**\n",
    "\n",
    "The objective of this activity is to collect real estate data from Melbourne, focusing on the top three suburbs where I would consider living. This data will be used for building regression models to predict housing prices. The aim is to explore and analyze the property market, understand key factors influencing property prices, and prepare a dataset suitable for machine learning tasks. The target variable for prediction is the sold price of each property."
   ]
  },
  {
   "cell_type": "markdown",
   "metadata": {},
   "source": [
    "**Suburbs Selected:**\n",
    "    \n",
    "For this activity, I have selected the following three Melbourne suburbs based on personal preference, popularity, and diversity in housing types:\n",
    "\n",
    "- Brighton (61 properties)\n",
    "- Richmond (60 properties)\n",
    "- Preston  (57 properties)"
   ]
  },
  {
   "cell_type": "markdown",
   "metadata": {},
   "source": [
    "**Data Collection Process:**\n",
    "The data was manually collected from https://www.realestate.com.au by browsing recently sold properties in the selected suburbs. For each listing, the following details were extracted where available:\n",
    "\n",
    "- **Suburb** - (Brighton, Richmond, Preston)\n",
    "- **Address** - Address of the property \n",
    "- **Rooms** - Number of Rooms\n",
    "- **Type** - Property type (House, Unit, Townhouse, Appartment)\n",
    "- **Method** - Sold\n",
    "- **SellerG** - SellerG name \n",
    "- **Date** - Date sold\n",
    "- **Distance** - Distance in KM from CBD(KM)\n",
    "- **Postcode** - Area postcode        \n",
    "- **Bedroom** - Number of bedrooms\n",
    "- **Bathroom** - Number of bathrooms\n",
    "- **Car** - Number of car spaces\n",
    "- **Landsize** - in m²\n",
    "- **CouncilArea** - CouncilArea of the property\n",
    "- **Latitude** - Latitude of property\n",
    "- **Longitude** - Longitude of property\n",
    "- **Regionname** - Regionname of property\n",
    "- **Price** - Sold price in AUD (target variable)\n",
    "\n",
    "The data was saved into a .csv file for easy loading and further processing using Python."
   ]
  },
  {
   "cell_type": "markdown",
   "metadata": {},
   "source": [
    "### Load the Dataset:"
   ]
  },
  {
   "cell_type": "code",
   "execution_count": 3,
   "metadata": {},
   "outputs": [],
   "source": [
    "# Load the .CSV file \"melbourne_housing_sold_data_3sub.csv\" and store in dataframe for processing.\n",
    "housing_df = pd.read_csv('melbourne_housing_sold_data_3sub.csv')"
   ]
  },
  {
   "cell_type": "code",
   "execution_count": 4,
   "metadata": {},
   "outputs": [
    {
     "name": "stdout",
     "output_type": "stream",
     "text": [
      "Property Count per Suburb:\n",
      "Brighton     61\n",
      "Richmond     60\n",
      "Preston      57\n",
      "Name: Suburb, dtype: int64\n"
     ]
    }
   ],
   "source": [
    "# Get the count of properties for each suburb\n",
    "suburb_counts = housing_df['Suburb'].value_counts()\n",
    "\n",
    "# Print the result\n",
    "print(\"Property Count per Suburb:\")\n",
    "print(suburb_counts)"
   ]
  },
  {
   "cell_type": "code",
   "execution_count": 5,
   "metadata": {},
   "outputs": [
    {
     "data": {
      "text/html": [
       "<div>\n",
       "<style scoped>\n",
       "    .dataframe tbody tr th:only-of-type {\n",
       "        vertical-align: middle;\n",
       "    }\n",
       "\n",
       "    .dataframe tbody tr th {\n",
       "        vertical-align: top;\n",
       "    }\n",
       "\n",
       "    .dataframe thead th {\n",
       "        text-align: right;\n",
       "    }\n",
       "</style>\n",
       "<table border=\"1\" class=\"dataframe\">\n",
       "  <thead>\n",
       "    <tr style=\"text-align: right;\">\n",
       "      <th></th>\n",
       "      <th>Suburb</th>\n",
       "      <th>Address</th>\n",
       "      <th>Rooms</th>\n",
       "      <th>Type</th>\n",
       "      <th>Method</th>\n",
       "      <th>SellerG</th>\n",
       "      <th>Date</th>\n",
       "      <th>Distance</th>\n",
       "      <th>Postcode</th>\n",
       "      <th>Bedroom</th>\n",
       "      <th>Bathroom</th>\n",
       "      <th>Car</th>\n",
       "      <th>Landsize</th>\n",
       "      <th>CouncilArea</th>\n",
       "      <th>Latitude</th>\n",
       "      <th>Longitude</th>\n",
       "      <th>Regionname</th>\n",
       "      <th>Price</th>\n",
       "    </tr>\n",
       "  </thead>\n",
       "  <tbody>\n",
       "    <tr>\n",
       "      <th>0</th>\n",
       "      <td>Brighton</td>\n",
       "      <td>55 Cole Street</td>\n",
       "      <td>4</td>\n",
       "      <td>House</td>\n",
       "      <td>Sold</td>\n",
       "      <td>OBrien – Brighton (Robert Eierweis)</td>\n",
       "      <td>05/03/25</td>\n",
       "      <td>10.99</td>\n",
       "      <td>3186</td>\n",
       "      <td>4</td>\n",
       "      <td>2</td>\n",
       "      <td>3</td>\n",
       "      <td>386</td>\n",
       "      <td>City of Bayside</td>\n",
       "      <td>–37.9090</td>\n",
       "      <td>144.996000</td>\n",
       "      <td>Bayside</td>\n",
       "      <td>$2,801,000</td>\n",
       "    </tr>\n",
       "    <tr>\n",
       "      <th>1</th>\n",
       "      <td>Brighton</td>\n",
       "      <td>9A Stanley Street</td>\n",
       "      <td>4</td>\n",
       "      <td>Townhouse</td>\n",
       "      <td>Sold</td>\n",
       "      <td>Kay &amp; Burton</td>\n",
       "      <td>28/02/25</td>\n",
       "      <td>10.99</td>\n",
       "      <td>3186</td>\n",
       "      <td>4</td>\n",
       "      <td>2</td>\n",
       "      <td>2</td>\n",
       "      <td>406</td>\n",
       "      <td>City of Bayside</td>\n",
       "      <td>–37.9090</td>\n",
       "      <td>144.996000</td>\n",
       "      <td>Bayside</td>\n",
       "      <td>$2,658,000</td>\n",
       "    </tr>\n",
       "    <tr>\n",
       "      <th>2</th>\n",
       "      <td>Brighton</td>\n",
       "      <td>105/116 Martin Street</td>\n",
       "      <td>2</td>\n",
       "      <td>Apartment</td>\n",
       "      <td>Sold</td>\n",
       "      <td>Bush Blocks and Buildings (Ian Riley)</td>\n",
       "      <td>05/12/24</td>\n",
       "      <td>10.99</td>\n",
       "      <td>3186</td>\n",
       "      <td>2</td>\n",
       "      <td>2</td>\n",
       "      <td>1</td>\n",
       "      <td>75</td>\n",
       "      <td>City of Bayside</td>\n",
       "      <td>–37.9090</td>\n",
       "      <td>144.996000</td>\n",
       "      <td>Bayside</td>\n",
       "      <td>$652,000</td>\n",
       "    </tr>\n",
       "    <tr>\n",
       "      <th>3</th>\n",
       "      <td>Brighton</td>\n",
       "      <td>10 Carpenter Street</td>\n",
       "      <td>4</td>\n",
       "      <td>House</td>\n",
       "      <td>Sold</td>\n",
       "      <td>Buxton</td>\n",
       "      <td>27/11/24</td>\n",
       "      <td>10.99</td>\n",
       "      <td>3186</td>\n",
       "      <td>4</td>\n",
       "      <td>1</td>\n",
       "      <td>2</td>\n",
       "      <td>508</td>\n",
       "      <td>City of Bayside</td>\n",
       "      <td>–37.9090</td>\n",
       "      <td>144.996000</td>\n",
       "      <td>Bayside</td>\n",
       "      <td>$2,450,000</td>\n",
       "    </tr>\n",
       "    <tr>\n",
       "      <th>4</th>\n",
       "      <td>Brighton</td>\n",
       "      <td>1A Beach Road</td>\n",
       "      <td>2</td>\n",
       "      <td>Unit</td>\n",
       "      <td>Sold</td>\n",
       "      <td>Zed Real Estate</td>\n",
       "      <td>01/03/25</td>\n",
       "      <td>11.34</td>\n",
       "      <td>3186</td>\n",
       "      <td>2</td>\n",
       "      <td>2</td>\n",
       "      <td>1</td>\n",
       "      <td>200</td>\n",
       "      <td>City of Bayside</td>\n",
       "      <td>-37.91345679</td>\n",
       "      <td>144.989124</td>\n",
       "      <td>Bayside</td>\n",
       "      <td>$1,500,000</td>\n",
       "    </tr>\n",
       "  </tbody>\n",
       "</table>\n",
       "</div>"
      ],
      "text/plain": [
       "      Suburb                Address  Rooms       Type Method  \\\n",
       "0  Brighton          55 Cole Street      4      House   Sold   \n",
       "1  Brighton       9A Stanley Street      4  Townhouse   Sold   \n",
       "2  Brighton   105/116 Martin Street      2  Apartment   Sold   \n",
       "3  Brighton     10 Carpenter Street      4      House   Sold   \n",
       "4  Brighton           1A Beach Road      2       Unit   Sold   \n",
       "\n",
       "                                 SellerG      Date  Distance  Postcode  \\\n",
       "0    OBrien – Brighton (Robert Eierweis)  05/03/25     10.99      3186   \n",
       "1                           Kay & Burton  28/02/25     10.99      3186   \n",
       "2  Bush Blocks and Buildings (Ian Riley)  05/12/24     10.99      3186   \n",
       "3                                 Buxton  27/11/24     10.99      3186   \n",
       "4                        Zed Real Estate  01/03/25     11.34      3186   \n",
       "\n",
       "   Bedroom  Bathroom  Car  Landsize      CouncilArea      Latitude  \\\n",
       "0        4         2    3       386  City of Bayside      –37.9090   \n",
       "1        4         2    2       406  City of Bayside      –37.9090   \n",
       "2        2         2    1        75  City of Bayside      –37.9090   \n",
       "3        4         1    2       508  City of Bayside      –37.9090   \n",
       "4        2         2    1       200  City of Bayside  -37.91345679   \n",
       "\n",
       "    Longitude Regionname       Price  \n",
       "0  144.996000    Bayside  $2,801,000  \n",
       "1  144.996000    Bayside  $2,658,000  \n",
       "2  144.996000    Bayside    $652,000  \n",
       "3  144.996000    Bayside  $2,450,000  \n",
       "4  144.989124    Bayside  $1,500,000  "
      ]
     },
     "execution_count": 5,
     "metadata": {},
     "output_type": "execute_result"
    }
   ],
   "source": [
    "# Display the first few rows to verify successful loading\n",
    "housing_df.head()"
   ]
  },
  {
   "cell_type": "markdown",
   "metadata": {},
   "source": [
    "**Data is successfully loaded using pandas.read_csv() and previewed it.**"
   ]
  },
  {
   "cell_type": "markdown",
   "metadata": {},
   "source": [
    "### Check Data Types and Basic Info:"
   ]
  },
  {
   "cell_type": "code",
   "execution_count": 6,
   "metadata": {},
   "outputs": [
    {
     "data": {
      "text/plain": [
       "<bound method DataFrame.info of         Suburb                      Address  Rooms       Type Method  \\\n",
       "0    Brighton                55 Cole Street      4      House   Sold   \n",
       "1    Brighton             9A Stanley Street      4  Townhouse   Sold   \n",
       "2    Brighton         105/116 Martin Street      2  Apartment   Sold   \n",
       "3    Brighton           10 Carpenter Street      4      House   Sold   \n",
       "4    Brighton                 1A Beach Road      2       Unit   Sold   \n",
       "..         ...                          ...    ...        ...    ...   \n",
       "173    Preston   147 Cramer Street, Preston      2      House   Sold   \n",
       "174    Preston    50 Harrow Street, Preston      3      House   Sold   \n",
       "175    Preston            3 Kathleen Street      4      House   Sold   \n",
       "176    Preston     170 Murray Road, Preston      3      House   Sold   \n",
       "177    Preston  17 Reidford Avenue, Preston      3      House   Sold   \n",
       "\n",
       "                                   SellerG      Date  Distance  Postcode  \\\n",
       "0      OBrien – Brighton (Robert Eierweis)  05/03/25     10.99      3186   \n",
       "1                             Kay & Burton  28/02/25     10.99      3186   \n",
       "2    Bush Blocks and Buildings (Ian Riley)  05/12/24     10.99      3186   \n",
       "3                                   Buxton  27/11/24     10.99      3186   \n",
       "4                          Zed Real Estate  01/03/25     11.34      3186   \n",
       "..                                     ...       ...       ...       ...   \n",
       "173                                  Miles  14/12/23     10.38      3072   \n",
       "174                       Nelson Alexander  25/11/23      9.89      3072   \n",
       "175                         The Bisi Agent  10/10/23      9.84      3072   \n",
       "176                Area Specialist Dynamic  17/11/23      9.40      3072   \n",
       "177                               RT Edgar  28/10/23     10.29      3072   \n",
       "\n",
       "     Bedroom  Bathroom  Car  Landsize      CouncilArea      Latitude  \\\n",
       "0          4         2    3       386  City of Bayside      –37.9090   \n",
       "1          4         2    2       406  City of Bayside      –37.9090   \n",
       "2          2         2    1        75  City of Bayside      –37.9090   \n",
       "3          4         1    2       508  City of Bayside      –37.9090   \n",
       "4          2         2    1       200  City of Bayside  -37.91345679   \n",
       "..       ...       ...  ...       ...              ...           ...   \n",
       "173        2         1    2       616      Darebin (C)       -37.729   \n",
       "174        3         1    1       696      Darebin (C)      -37.7315   \n",
       "175        4         2    3       534      Darebin (C)      -37.7344   \n",
       "176        3         2    2       649      Darebin (C)      -37.7398   \n",
       "177        3         1    2       691      Darebin (C)      -37.7331   \n",
       "\n",
       "      Longitude         Regionname       Price  \n",
       "0    144.996000            Bayside  $2,801,000  \n",
       "1    144.996000            Bayside  $2,658,000  \n",
       "2    144.996000            Bayside    $652,000  \n",
       "3    144.996000            Bayside  $2,450,000  \n",
       "4    144.989124            Bayside  $1,500,000  \n",
       "..          ...                ...         ...  \n",
       "173  145.013000  Melbourne - North  $3,100,000  \n",
       "174  145.006400  Melbourne - North  $5,500,000  \n",
       "175  145.013100  Melbourne - North  $5,500,000  \n",
       "176  145.015200  Melbourne - North  $6,150,000  \n",
       "177  145.020900  Melbourne - North  $4,500,000  \n",
       "\n",
       "[178 rows x 18 columns]>"
      ]
     },
     "execution_count": 6,
     "metadata": {},
     "output_type": "execute_result"
    }
   ],
   "source": [
    "# Overview of the dataset: column names, non-null count, and data types\n",
    "housing_df.info"
   ]
  },
  {
   "cell_type": "markdown",
   "metadata": {},
   "source": [
    "**Data has 178 rows and 18 columns.**"
   ]
  },
  {
   "cell_type": "code",
   "execution_count": 7,
   "metadata": {},
   "outputs": [
    {
     "name": "stdout",
     "output_type": "stream",
     "text": [
      "Shape: (178, 18)\n",
      "\n",
      "Data Types:\n",
      " Suburb          object\n",
      "Address         object\n",
      "Rooms            int64\n",
      "Type            object\n",
      "Method          object\n",
      "SellerG         object\n",
      "Date            object\n",
      "Distance       float64\n",
      "Postcode         int64\n",
      "Bedroom          int64\n",
      "Bathroom         int64\n",
      "Car              int64\n",
      "Landsize         int64\n",
      "CouncilArea     object\n",
      "Latitude        object\n",
      "Longitude      float64\n",
      "Regionname      object\n",
      "Price           object\n",
      "dtype: object\n"
     ]
    }
   ],
   "source": [
    "# Dataset shape and data types\n",
    "print(\"Shape:\", housing_df.shape)\n",
    "print(\"\\nData Types:\\n\", housing_df.dtypes)"
   ]
  },
  {
   "cell_type": "markdown",
   "metadata": {},
   "source": [
    "### Analysis:\n",
    "- Target variable is 'Price', which indicates the sold price. Mapped to object and should be changed to int/float.\n",
    "- Date variable is mapped to object, will change that ot date type later.\n",
    "- Latitude and Longitude should be float. Will change them.\n",
    "- Postcode as int doesnot make sense. Should be changed to catagorical."
   ]
  },
  {
   "cell_type": "markdown",
   "metadata": {},
   "source": [
    "### Check Number of Missing Entries in Each Feature:"
   ]
  },
  {
   "cell_type": "code",
   "execution_count": 8,
   "metadata": {},
   "outputs": [
    {
     "name": "stdout",
     "output_type": "stream",
     "text": [
      "Missing values per column:\n",
      "Suburb         0\n",
      "Address        0\n",
      "Rooms          0\n",
      "Type           0\n",
      "Method         0\n",
      "SellerG        0\n",
      "Date           0\n",
      "Distance       0\n",
      "Postcode       0\n",
      "Bedroom        0\n",
      "Bathroom       0\n",
      "Car            0\n",
      "Landsize       0\n",
      "CouncilArea    0\n",
      "Latitude       0\n",
      "Longitude      0\n",
      "Regionname     0\n",
      "Price          0\n",
      "dtype: int64\n"
     ]
    }
   ],
   "source": [
    "# Identify features with missing values and display the count\n",
    "print(\"Missing values per column:\")\n",
    "print(housing_df.isnull().sum())"
   ]
  },
  {
   "cell_type": "markdown",
   "metadata": {},
   "source": [
    "**Dataset has no missing values as its manually taken from website.**"
   ]
  },
  {
   "cell_type": "markdown",
   "metadata": {},
   "source": [
    "### Map/Change the datatype properly for 'Price' (target variable):"
   ]
  },
  {
   "cell_type": "code",
   "execution_count": 9,
   "metadata": {},
   "outputs": [
    {
     "name": "stdout",
     "output_type": "stream",
     "text": [
      "0    $2,801,000\n",
      "1    $2,658,000\n",
      "2      $652,000\n",
      "3    $2,450,000\n",
      "4    $1,500,000\n",
      "Name: Price, dtype: object\n"
     ]
    }
   ],
   "source": [
    "# Check the first few entries in the Price column\n",
    "print(housing_df['Price'].head())"
   ]
  },
  {
   "cell_type": "markdown",
   "metadata": {},
   "source": [
    "**Remove dollar signs and commas.Convert to numeric, and handle errors. Also confirm.**"
   ]
  },
  {
   "cell_type": "code",
   "execution_count": 10,
   "metadata": {},
   "outputs": [],
   "source": [
    "housing_df['Price'] = housing_df['Price'].replace('[\\$,]', '', regex=True)\n",
    "housing_df['Price'] = pd.to_numeric(housing_df['Price'], errors='coerce')"
   ]
  },
  {
   "cell_type": "markdown",
   "metadata": {},
   "source": [
    "### Change the datatype of Latitude and Longitude to float from object:"
   ]
  },
  {
   "cell_type": "code",
   "execution_count": 11,
   "metadata": {},
   "outputs": [],
   "source": [
    "# Replace en dash (–) with hyphen-minus (-) in both Latitude and Longitude\n",
    "housing_df['Latitude'] = housing_df['Latitude'].astype(str).str.replace('–', '-', regex=False)\n",
    "housing_df['Longitude'] = housing_df['Longitude'].astype(str).str.replace('–', '-', regex=False)\n",
    "\n",
    "# Convert to float (handle any non-numeric entries with errors='coerce')\n",
    "housing_df['Latitude'] = pd.to_numeric(housing_df['Latitude'], errors='coerce')\n",
    "housing_df['Longitude'] = pd.to_numeric(housing_df['Longitude'], errors='coerce')"
   ]
  },
  {
   "cell_type": "markdown",
   "metadata": {},
   "source": [
    "### Convert Postcode to object:"
   ]
  },
  {
   "cell_type": "code",
   "execution_count": 12,
   "metadata": {},
   "outputs": [],
   "source": [
    "# Convert Postcode to object.\n",
    "housing_df['Postcode'] = housing_df['Postcode'].astype('object')"
   ]
  },
  {
   "cell_type": "code",
   "execution_count": 13,
   "metadata": {},
   "outputs": [
    {
     "name": "stdout",
     "output_type": "stream",
     "text": [
      "Shape: (178, 18)\n",
      "\n",
      "Data Types:\n",
      " Suburb          object\n",
      "Address         object\n",
      "Rooms            int64\n",
      "Type            object\n",
      "Method          object\n",
      "SellerG         object\n",
      "Date            object\n",
      "Distance       float64\n",
      "Postcode        object\n",
      "Bedroom          int64\n",
      "Bathroom         int64\n",
      "Car              int64\n",
      "Landsize         int64\n",
      "CouncilArea     object\n",
      "Latitude       float64\n",
      "Longitude      float64\n",
      "Regionname      object\n",
      "Price            int64\n",
      "dtype: object\n"
     ]
    }
   ],
   "source": [
    "# Dataset shape and data types\n",
    "print(\"Shape:\", housing_df.shape)\n",
    "print(\"\\nData Types:\\n\", housing_df.dtypes)"
   ]
  },
  {
   "cell_type": "markdown",
   "metadata": {},
   "source": [
    "**Datatype conversion:**\n",
    "- **Price** converted to int.\n",
    "- **Latitude** and **Longitude** converted to float.\n",
    "- **Postcode** converted to object. "
   ]
  },
  {
   "cell_type": "code",
   "execution_count": 14,
   "metadata": {},
   "outputs": [
    {
     "data": {
      "text/html": [
       "<div>\n",
       "<style scoped>\n",
       "    .dataframe tbody tr th:only-of-type {\n",
       "        vertical-align: middle;\n",
       "    }\n",
       "\n",
       "    .dataframe tbody tr th {\n",
       "        vertical-align: top;\n",
       "    }\n",
       "\n",
       "    .dataframe thead th {\n",
       "        text-align: right;\n",
       "    }\n",
       "</style>\n",
       "<table border=\"1\" class=\"dataframe\">\n",
       "  <thead>\n",
       "    <tr style=\"text-align: right;\">\n",
       "      <th></th>\n",
       "      <th>Rooms</th>\n",
       "      <th>Distance</th>\n",
       "      <th>Bedroom</th>\n",
       "      <th>Bathroom</th>\n",
       "      <th>Car</th>\n",
       "      <th>Landsize</th>\n",
       "      <th>Latitude</th>\n",
       "      <th>Longitude</th>\n",
       "      <th>Price</th>\n",
       "    </tr>\n",
       "  </thead>\n",
       "  <tbody>\n",
       "    <tr>\n",
       "      <th>count</th>\n",
       "      <td>178.000000</td>\n",
       "      <td>178.000000</td>\n",
       "      <td>178.000000</td>\n",
       "      <td>178.000000</td>\n",
       "      <td>178.000000</td>\n",
       "      <td>178.000000</td>\n",
       "      <td>178.000000</td>\n",
       "      <td>178.000000</td>\n",
       "      <td>1.780000e+02</td>\n",
       "    </tr>\n",
       "    <tr>\n",
       "      <th>mean</th>\n",
       "      <td>3.078652</td>\n",
       "      <td>8.028567</td>\n",
       "      <td>3.078652</td>\n",
       "      <td>1.780899</td>\n",
       "      <td>1.674157</td>\n",
       "      <td>400.157303</td>\n",
       "      <td>-37.827964</td>\n",
       "      <td>145.000521</td>\n",
       "      <td>3.332893e+06</td>\n",
       "    </tr>\n",
       "    <tr>\n",
       "      <th>std</th>\n",
       "      <td>0.676059</td>\n",
       "      <td>3.567213</td>\n",
       "      <td>0.676059</td>\n",
       "      <td>0.639805</td>\n",
       "      <td>0.547728</td>\n",
       "      <td>161.285997</td>\n",
       "      <td>0.071574</td>\n",
       "      <td>0.010581</td>\n",
       "      <td>1.689242e+06</td>\n",
       "    </tr>\n",
       "    <tr>\n",
       "      <th>min</th>\n",
       "      <td>1.000000</td>\n",
       "      <td>2.664000</td>\n",
       "      <td>1.000000</td>\n",
       "      <td>1.000000</td>\n",
       "      <td>1.000000</td>\n",
       "      <td>54.000000</td>\n",
       "      <td>-37.917778</td>\n",
       "      <td>144.987433</td>\n",
       "      <td>1.810000e+05</td>\n",
       "    </tr>\n",
       "    <tr>\n",
       "      <th>25%</th>\n",
       "      <td>3.000000</td>\n",
       "      <td>3.338250</td>\n",
       "      <td>3.000000</td>\n",
       "      <td>1.000000</td>\n",
       "      <td>1.000000</td>\n",
       "      <td>280.000000</td>\n",
       "      <td>-37.912132</td>\n",
       "      <td>144.990840</td>\n",
       "      <td>1.850000e+06</td>\n",
       "    </tr>\n",
       "    <tr>\n",
       "      <th>50%</th>\n",
       "      <td>3.000000</td>\n",
       "      <td>9.500000</td>\n",
       "      <td>3.000000</td>\n",
       "      <td>2.000000</td>\n",
       "      <td>2.000000</td>\n",
       "      <td>423.500000</td>\n",
       "      <td>-37.825943</td>\n",
       "      <td>144.996901</td>\n",
       "      <td>3.050000e+06</td>\n",
       "    </tr>\n",
       "    <tr>\n",
       "      <th>75%</th>\n",
       "      <td>4.000000</td>\n",
       "      <td>11.305000</td>\n",
       "      <td>4.000000</td>\n",
       "      <td>2.000000</td>\n",
       "      <td>2.000000</td>\n",
       "      <td>540.000000</td>\n",
       "      <td>-37.742625</td>\n",
       "      <td>145.008450</td>\n",
       "      <td>4.837500e+06</td>\n",
       "    </tr>\n",
       "    <tr>\n",
       "      <th>max</th>\n",
       "      <td>4.000000</td>\n",
       "      <td>12.250000</td>\n",
       "      <td>4.000000</td>\n",
       "      <td>3.000000</td>\n",
       "      <td>3.000000</td>\n",
       "      <td>696.000000</td>\n",
       "      <td>-37.724700</td>\n",
       "      <td>145.029600</td>\n",
       "      <td>8.300000e+06</td>\n",
       "    </tr>\n",
       "  </tbody>\n",
       "</table>\n",
       "</div>"
      ],
      "text/plain": [
       "            Rooms    Distance     Bedroom    Bathroom         Car    Landsize  \\\n",
       "count  178.000000  178.000000  178.000000  178.000000  178.000000  178.000000   \n",
       "mean     3.078652    8.028567    3.078652    1.780899    1.674157  400.157303   \n",
       "std      0.676059    3.567213    0.676059    0.639805    0.547728  161.285997   \n",
       "min      1.000000    2.664000    1.000000    1.000000    1.000000   54.000000   \n",
       "25%      3.000000    3.338250    3.000000    1.000000    1.000000  280.000000   \n",
       "50%      3.000000    9.500000    3.000000    2.000000    2.000000  423.500000   \n",
       "75%      4.000000   11.305000    4.000000    2.000000    2.000000  540.000000   \n",
       "max      4.000000   12.250000    4.000000    3.000000    3.000000  696.000000   \n",
       "\n",
       "         Latitude   Longitude         Price  \n",
       "count  178.000000  178.000000  1.780000e+02  \n",
       "mean   -37.827964  145.000521  3.332893e+06  \n",
       "std      0.071574    0.010581  1.689242e+06  \n",
       "min    -37.917778  144.987433  1.810000e+05  \n",
       "25%    -37.912132  144.990840  1.850000e+06  \n",
       "50%    -37.825943  144.996901  3.050000e+06  \n",
       "75%    -37.742625  145.008450  4.837500e+06  \n",
       "max    -37.724700  145.029600  8.300000e+06  "
      ]
     },
     "execution_count": 14,
     "metadata": {},
     "output_type": "execute_result"
    }
   ],
   "source": [
    "# Calculate the five-point summary for all numeric columns\n",
    "housing_df.describe()"
   ]
  },
  {
   "cell_type": "markdown",
   "metadata": {},
   "source": [
    "**Five point summary of data looks good.**"
   ]
  },
  {
   "cell_type": "code",
   "execution_count": 15,
   "metadata": {},
   "outputs": [
    {
     "data": {
      "text/html": [
       "<div>\n",
       "<style scoped>\n",
       "    .dataframe tbody tr th:only-of-type {\n",
       "        vertical-align: middle;\n",
       "    }\n",
       "\n",
       "    .dataframe tbody tr th {\n",
       "        vertical-align: top;\n",
       "    }\n",
       "\n",
       "    .dataframe thead th {\n",
       "        text-align: right;\n",
       "    }\n",
       "</style>\n",
       "<table border=\"1\" class=\"dataframe\">\n",
       "  <thead>\n",
       "    <tr style=\"text-align: right;\">\n",
       "      <th></th>\n",
       "      <th>Suburb</th>\n",
       "      <th>Address</th>\n",
       "      <th>Rooms</th>\n",
       "      <th>Type</th>\n",
       "      <th>Method</th>\n",
       "      <th>SellerG</th>\n",
       "      <th>Date</th>\n",
       "      <th>Distance</th>\n",
       "      <th>Postcode</th>\n",
       "      <th>Bedroom</th>\n",
       "      <th>Bathroom</th>\n",
       "      <th>Car</th>\n",
       "      <th>Landsize</th>\n",
       "      <th>CouncilArea</th>\n",
       "      <th>Latitude</th>\n",
       "      <th>Longitude</th>\n",
       "      <th>Regionname</th>\n",
       "      <th>Price</th>\n",
       "    </tr>\n",
       "  </thead>\n",
       "  <tbody>\n",
       "    <tr>\n",
       "      <th>0</th>\n",
       "      <td>Brighton</td>\n",
       "      <td>55 Cole Street</td>\n",
       "      <td>4</td>\n",
       "      <td>House</td>\n",
       "      <td>Sold</td>\n",
       "      <td>OBrien – Brighton (Robert Eierweis)</td>\n",
       "      <td>05/03/25</td>\n",
       "      <td>10.99</td>\n",
       "      <td>3186</td>\n",
       "      <td>4</td>\n",
       "      <td>2</td>\n",
       "      <td>3</td>\n",
       "      <td>386</td>\n",
       "      <td>City of Bayside</td>\n",
       "      <td>-37.909000</td>\n",
       "      <td>144.996000</td>\n",
       "      <td>Bayside</td>\n",
       "      <td>2801000</td>\n",
       "    </tr>\n",
       "    <tr>\n",
       "      <th>1</th>\n",
       "      <td>Brighton</td>\n",
       "      <td>9A Stanley Street</td>\n",
       "      <td>4</td>\n",
       "      <td>Townhouse</td>\n",
       "      <td>Sold</td>\n",
       "      <td>Kay &amp; Burton</td>\n",
       "      <td>28/02/25</td>\n",
       "      <td>10.99</td>\n",
       "      <td>3186</td>\n",
       "      <td>4</td>\n",
       "      <td>2</td>\n",
       "      <td>2</td>\n",
       "      <td>406</td>\n",
       "      <td>City of Bayside</td>\n",
       "      <td>-37.909000</td>\n",
       "      <td>144.996000</td>\n",
       "      <td>Bayside</td>\n",
       "      <td>2658000</td>\n",
       "    </tr>\n",
       "    <tr>\n",
       "      <th>2</th>\n",
       "      <td>Brighton</td>\n",
       "      <td>105/116 Martin Street</td>\n",
       "      <td>2</td>\n",
       "      <td>Apartment</td>\n",
       "      <td>Sold</td>\n",
       "      <td>Bush Blocks and Buildings (Ian Riley)</td>\n",
       "      <td>05/12/24</td>\n",
       "      <td>10.99</td>\n",
       "      <td>3186</td>\n",
       "      <td>2</td>\n",
       "      <td>2</td>\n",
       "      <td>1</td>\n",
       "      <td>75</td>\n",
       "      <td>City of Bayside</td>\n",
       "      <td>-37.909000</td>\n",
       "      <td>144.996000</td>\n",
       "      <td>Bayside</td>\n",
       "      <td>652000</td>\n",
       "    </tr>\n",
       "    <tr>\n",
       "      <th>3</th>\n",
       "      <td>Brighton</td>\n",
       "      <td>10 Carpenter Street</td>\n",
       "      <td>4</td>\n",
       "      <td>House</td>\n",
       "      <td>Sold</td>\n",
       "      <td>Buxton</td>\n",
       "      <td>27/11/24</td>\n",
       "      <td>10.99</td>\n",
       "      <td>3186</td>\n",
       "      <td>4</td>\n",
       "      <td>1</td>\n",
       "      <td>2</td>\n",
       "      <td>508</td>\n",
       "      <td>City of Bayside</td>\n",
       "      <td>-37.909000</td>\n",
       "      <td>144.996000</td>\n",
       "      <td>Bayside</td>\n",
       "      <td>2450000</td>\n",
       "    </tr>\n",
       "    <tr>\n",
       "      <th>4</th>\n",
       "      <td>Brighton</td>\n",
       "      <td>1A Beach Road</td>\n",
       "      <td>2</td>\n",
       "      <td>Unit</td>\n",
       "      <td>Sold</td>\n",
       "      <td>Zed Real Estate</td>\n",
       "      <td>01/03/25</td>\n",
       "      <td>11.34</td>\n",
       "      <td>3186</td>\n",
       "      <td>2</td>\n",
       "      <td>2</td>\n",
       "      <td>1</td>\n",
       "      <td>200</td>\n",
       "      <td>City of Bayside</td>\n",
       "      <td>-37.913457</td>\n",
       "      <td>144.989124</td>\n",
       "      <td>Bayside</td>\n",
       "      <td>1500000</td>\n",
       "    </tr>\n",
       "  </tbody>\n",
       "</table>\n",
       "</div>"
      ],
      "text/plain": [
       "      Suburb                Address  Rooms       Type Method  \\\n",
       "0  Brighton          55 Cole Street      4      House   Sold   \n",
       "1  Brighton       9A Stanley Street      4  Townhouse   Sold   \n",
       "2  Brighton   105/116 Martin Street      2  Apartment   Sold   \n",
       "3  Brighton     10 Carpenter Street      4      House   Sold   \n",
       "4  Brighton           1A Beach Road      2       Unit   Sold   \n",
       "\n",
       "                                 SellerG      Date  Distance Postcode  \\\n",
       "0    OBrien – Brighton (Robert Eierweis)  05/03/25     10.99     3186   \n",
       "1                           Kay & Burton  28/02/25     10.99     3186   \n",
       "2  Bush Blocks and Buildings (Ian Riley)  05/12/24     10.99     3186   \n",
       "3                                 Buxton  27/11/24     10.99     3186   \n",
       "4                        Zed Real Estate  01/03/25     11.34     3186   \n",
       "\n",
       "   Bedroom  Bathroom  Car  Landsize      CouncilArea   Latitude   Longitude  \\\n",
       "0        4         2    3       386  City of Bayside -37.909000  144.996000   \n",
       "1        4         2    2       406  City of Bayside -37.909000  144.996000   \n",
       "2        2         2    1        75  City of Bayside -37.909000  144.996000   \n",
       "3        4         1    2       508  City of Bayside -37.909000  144.996000   \n",
       "4        2         2    1       200  City of Bayside -37.913457  144.989124   \n",
       "\n",
       "  Regionname    Price  \n",
       "0    Bayside  2801000  \n",
       "1    Bayside  2658000  \n",
       "2    Bayside   652000  \n",
       "3    Bayside  2450000  \n",
       "4    Bayside  1500000  "
      ]
     },
     "execution_count": 15,
     "metadata": {},
     "output_type": "execute_result"
    }
   ],
   "source": [
    "# Display the first few rows to verify successful loading\n",
    "housing_df.head()"
   ]
  },
  {
   "cell_type": "markdown",
   "metadata": {},
   "source": [
    "## Visualize data:"
   ]
  },
  {
   "cell_type": "markdown",
   "metadata": {},
   "source": [
    "### Univariate Analysis:"
   ]
  },
  {
   "cell_type": "markdown",
   "metadata": {},
   "source": [
    "### Distribution of Property Prices:\n",
    "\n",
    "**Purpose:** This histogram and Kernel Density Estimate (KDE) plot helps to understand the central tendency, spread, shape, and presence of outliers in the 'Price' (target) variable. It shows how property prices are distributed across the selected suburbs."
   ]
  },
  {
   "cell_type": "code",
   "execution_count": 16,
   "metadata": {},
   "outputs": [
    {
     "data": {
      "image/png": "[encoded data removed]",
      "text/plain": [
       "<Figure size 720x432 with 1 Axes>"
      ]
     },
     "metadata": {
      "needs_background": "light"
     },
     "output_type": "display_data"
    }
   ],
   "source": [
    "# 1. Distribution of 'Price' (Target Variable)\n",
    "plt.figure(figsize=(10, 6))\n",
    "sns.histplot(housing_df['Price'], kde=True, bins=50, color='skyblue')\n",
    "plt.title('Distribution of Property Prices')\n",
    "plt.xlabel('Price (AUD)')\n",
    "plt.ylabel('Frequency')\n",
    "plt.grid(True, linestyle='--', alpha=0.6)\n",
    "plt.tight_layout()\n",
    "plt.show()"
   ]
  },
  {
   "cell_type": "markdown",
   "metadata": {},
   "source": [
    "### Analysis:\n",
    "\n",
    "The histogram clearly shows that the distribution of property prices is highly right-skewed. This means that a large number of properties are sold at lower prices, while a much smaller number of properties command significantly higher prices.\n",
    "\n",
    "The peak of the distribution is towards the lower end of the price range, indicating that most properties in this dataset are relatively affordable."
   ]
  },
  {
   "cell_type": "markdown",
   "metadata": {},
   "source": [
    "### Distribution of Number of Rooms:\n",
    "**Purpose:** This bar plot illustrates the frequency of different numbers of rooms in properties within the dataset. It helps identify common property sizes in terms of room count."
   ]
  },
  {
   "cell_type": "code",
   "execution_count": 17,
   "metadata": {},
   "outputs": [
    {
     "data": {
      "image/png": "[encoded data removed]",
      "text/plain": [
       "<Figure size 576x360 with 1 Axes>"
      ]
     },
     "metadata": {
      "needs_background": "light"
     },
     "output_type": "display_data"
    }
   ],
   "source": [
    "plt.figure(figsize=(8, 5))\n",
    "sns.countplot(data=housing_df, x='Rooms', palette='viridis', order=housing_df['Rooms'].value_counts().index)\n",
    "plt.title('Distribution of Number of Rooms')\n",
    "plt.xlabel('Number of Rooms')\n",
    "plt.ylabel('Count of Properties')\n",
    "plt.grid(axis='y', linestyle='--', alpha=0.6)\n",
    "plt.tight_layout()\n",
    "plt.show()"
   ]
  },
  {
   "cell_type": "markdown",
   "metadata": {},
   "source": [
    "### Analysis:\n",
    "The most common number of rooms for properties in this subset of Melbourne suburbs is 3 rooms, followed by 4 and then 2 rooms. There's a rapid decrease in frequency for properties with 2 rooms to 1, with very few properties having 1 rooms. This indicates that 2-4 bedroom properties are the most prevalent type in these suburbs."
   ]
  },
  {
   "cell_type": "markdown",
   "metadata": {},
   "source": [
    "### Distribution of Property Types:\n",
    "**Purpose:** This bar plot shows the prevalence of different property types (e.g., House, Unit, Townhouse) in the dataset. It gives an idea of the most common housing structures available."
   ]
  },
  {
   "cell_type": "code",
   "execution_count": 18,
   "metadata": {},
   "outputs": [
    {
     "data": {
      "image/png": "[encoded data removed]",
      "text/plain": [
       "<Figure size 576x360 with 1 Axes>"
      ]
     },
     "metadata": {
      "needs_background": "light"
     },
     "output_type": "display_data"
    }
   ],
   "source": [
    "plt.figure(figsize=(8, 5))\n",
    "sns.countplot(data=housing_df, y='Type', palette='cividis', order=housing_df['Type'].value_counts().index)\n",
    "plt.title('Distribution of Property Types')\n",
    "plt.xlabel('Count of Properties')\n",
    "plt.ylabel('Property Type')\n",
    "plt.grid(axis='x', linestyle='--', alpha=0.6)\n",
    "plt.tight_layout()\n",
    "plt.show()"
   ]
  },
  {
   "cell_type": "markdown",
   "metadata": {},
   "source": [
    "### Analysis:\n",
    "The majority of properties in this dataset are Houses (h), followed by very less in Townhouses (t), Appartments (a), and then a smaller number of Units (u). This suggests that houses are the dominant property type for sale in the chosen suburbs, which could influence overall market dynamics."
   ]
  },
  {
   "cell_type": "markdown",
   "metadata": {},
   "source": [
    "### Bivariate Analysis:"
   ]
  },
  {
   "cell_type": "markdown",
   "metadata": {},
   "source": [
    "Bivariate graphs are used to explore the relationship between two variables, helping to identify patterns, correlations, and differences."
   ]
  },
  {
   "cell_type": "markdown",
   "metadata": {},
   "source": [
    "### Price vs. Landsize:\n",
    "**Purpose:** This scatter plot explores the relationship between the 'Price' of a property and its 'Landsize'. We expect to see if larger land sizes generally correlate with higher prices, indicating a positive linear or non-linear relationship."
   ]
  },
  {
   "cell_type": "code",
   "execution_count": 19,
   "metadata": {},
   "outputs": [
    {
     "data": {
      "image/png": "[encoded data removed]",
      "text/plain": [
       "<Figure size 720x432 with 1 Axes>"
      ]
     },
     "metadata": {
      "needs_background": "light"
     },
     "output_type": "display_data"
    }
   ],
   "source": [
    "plt.figure(figsize=(10, 6))\n",
    "sns.scatterplot(data=housing_df, x='Landsize', y='Price', alpha=0.6, color='purple', s=50) # s controls marker size\n",
    "plt.title('Price vs. Landsize')\n",
    "plt.xlabel('Landsize (sqm)')\n",
    "plt.ylabel('Price (AUD)')\n",
    "plt.grid(True, linestyle='--', alpha=0.6)\n",
    "plt.tight_layout()\n",
    "plt.show()"
   ]
  },
  {
   "cell_type": "markdown",
   "metadata": {},
   "source": [
    "### Analysis:\n",
    "The scatter plot suggests a positive correlation between Price and Landsize. As Landsize increases, the Price generally tends to increase as well. However, the relationship isn't perfectly linear; there's a significant spread in prices for similar land sizes, especially at smaller land sizes. This indicates that Landsize is an important factor, but other variables also play a crucial role in determining property prices. There might also be some outliers with very large land sizes or very high prices."
   ]
  },
  {
   "cell_type": "markdown",
   "metadata": {},
   "source": [
    "### Price vs. Number of Rooms:\n",
    "**Purpose:** This box plot visualizes how the 'Price' distribution varies with the 'Number of Rooms'. It helps to see if properties with more rooms tend to have higher prices and to observe the spread and outliers for each room count category."
   ]
  },
  {
   "cell_type": "code",
   "execution_count": 20,
   "metadata": {},
   "outputs": [
    {
     "data": {
      "image/png": "[encoded data removed]",
      "text/plain": [
       "<Figure size 720x432 with 1 Axes>"
      ]
     },
     "metadata": {
      "needs_background": "light"
     },
     "output_type": "display_data"
    }
   ],
   "source": [
    "plt.figure(figsize=(10, 6))\n",
    "sns.boxplot(data=housing_df, x='Rooms', y='Price', palette='coolwarm')\n",
    "plt.title('Price Distribution by Number of Rooms')\n",
    "plt.xlabel('Number of Rooms')\n",
    "plt.ylabel('Price (AUD)')\n",
    "plt.grid(axis='y', linestyle='--', alpha=0.6)\n",
    "plt.tight_layout()\n",
    "plt.show()"
   ]
  },
  {
   "cell_type": "markdown",
   "metadata": {},
   "source": [
    "### Analysis:\n",
    "This box plot clearly shows a general trend of increasing median price with an increasing number of rooms. Properties with more rooms (e.g., 3-4 rooms) tend to command higher prices. The spread (interquartile range, represented by the box) also appears to widen for properties with more rooms, indicating greater variability in price within those categories. The presence of outliers (individual points outside the \"whiskers\") suggests some unusually expensive or inexpensive properties for a given number of rooms."
   ]
  },
  {
   "cell_type": "markdown",
   "metadata": {},
   "source": [
    "### Price vs. Suburb:\n",
    "**Purpose:** This violin plot shows the distribution of 'Price' for each of the top three chosen suburbs. It helps to compare the price ranges, median prices, and overall density of prices across different locations, highlighting potential differences in property values based on suburb."
   ]
  },
  {
   "cell_type": "code",
   "execution_count": 21,
   "metadata": {},
   "outputs": [
    {
     "data": {
      "image/png": "[encoded data removed]",
      "text/plain": [
       "<Figure size 720x432 with 1 Axes>"
      ]
     },
     "metadata": {
      "needs_background": "light"
     },
     "output_type": "display_data"
    }
   ],
   "source": [
    "plt.figure(figsize=(10, 6))\n",
    "sns.violinplot(data=housing_df, x='Suburb', y='Price', palette='Spectral')\n",
    "plt.title('Price Distribution by Suburb')\n",
    "plt.xlabel('Suburb')\n",
    "plt.ylabel('Price (AUD)')\n",
    "plt.grid(axis='y', linestyle='--', alpha=0.6)\n",
    "plt.tight_layout()\n",
    "plt.show()"
   ]
  },
  {
   "cell_type": "markdown",
   "metadata": {},
   "source": [
    "### Analysis:\n",
    "The violin plot effectively highlights the differences in property prices across the selected suburbs:\n",
    "\n",
    "- Brighton clearly has the highest median prices and the widest range, indicating a more affluent market with very expensive properties. Its distribution is denser at the higher end.\n",
    "- Preston shows a moderate price range with a concentration of properties in the mid-range, suggesting it's a competitive inner-city market. Its distribution is thinner at the higher end.\n",
    "- Richmond has the lowest median prices and a tighter, lower price range, indicating it's a relatively more affordable suburb compared to Brighton and Richmond within this dataset.\n",
    "\n",
    "This plot is crucial as it demonstrates that location (Suburb) is a very strong determinant of property price, exhibiting distinct market behaviors for each area."
   ]
  },
  {
   "cell_type": "markdown",
   "metadata": {},
   "source": [
    "### Correlation Heatmap (Numerical Only):\n",
    "**Purpose:**\n",
    "Understanding correlation is fundamental in data analysis for several key reasons:\n",
    "- Understanding Relationships: It helps to quickly grasp how two variables move together.\n",
    "- Feature Selection for Machine Learning.\n",
    "- Done on numerical fields only. Drop \"Postcode\" as its not useful in visualization as well as in model."
   ]
  },
  {
   "cell_type": "code",
   "execution_count": 22,
   "metadata": {},
   "outputs": [
    {
     "name": "stdout",
     "output_type": "stream",
     "text": [
      "Successfully dropped 'Postcode' column. New dataset shape: (178, 17)\n"
     ]
    }
   ],
   "source": [
    "# Drop the 'Postcode' column\n",
    "if 'Postcode' in housing_df.columns:\n",
    "    housing_df_modified = housing_df.drop(columns=['Postcode'])\n",
    "    print(f\"Successfully dropped 'Postcode' column. New dataset shape: {housing_df_modified.shape}\")\n",
    "else:\n",
    "    housing_df_modified = housing_df.copy() # Make a copy if 'Postcode' isn't found\n",
    "    print(\"'Postcode' column not found in the dataset. Proceeding with original DataFrame.\")"
   ]
  },
  {
   "cell_type": "code",
   "execution_count": 23,
   "metadata": {},
   "outputs": [
    {
     "data": {
      "image/png": "[encoded data removed]",
      "text/plain": [
       "<Figure size 720x576 with 2 Axes>"
      ]
     },
     "metadata": {
      "needs_background": "light"
     },
     "output_type": "display_data"
    }
   ],
   "source": [
    "# The .corr() method only works on numerical data.\n",
    "numerical_df = housing_df_modified.select_dtypes(include=np.number)\n",
    "\n",
    "# Calculate the correlation matrix\n",
    "correlation_matrix = numerical_df.corr()\n",
    "\n",
    "# Create the heatmap\n",
    "plt.figure(figsize=(10, 8)) # Adjust figure size for better readability\n",
    "sns.heatmap(\n",
    "    correlation_matrix,\n",
    "    annot=True,       # Show the correlation values on the heatmap\n",
    "    cmap='coolwarm',  # Color map (coolwarm is good for showing positive/negative correlations)\n",
    "    fmt=\".2f\",        # Format annotations to two decimal places\n",
    "    linewidths=.5,    # Add lines between cells\n",
    "    cbar_kws={'label': 'Correlation Coefficient'} # Add a label to the color bar\n",
    ")\n",
    "plt.title('Correlation Heatmap of Numerical Features in Melbourne Housing Data', fontsize=16)\n",
    "plt.xticks(rotation=45, ha='right') # Rotate x-axis labels for better readability\n",
    "plt.yticks(rotation=0) # Ensure y-axis labels are horizontal\n",
    "plt.tight_layout() # Adjust layout to prevent labels from overlapping\n",
    "plt.show()"
   ]
  },
  {
   "cell_type": "markdown",
   "metadata": {},
   "source": [
    "### Analysis:\n",
    "Based on the correlation heatmap, observations are as following:\n",
    "\n",
    "**Correlations with 'Price' (Target Variable)**\n",
    "\n",
    "**Strong Positive Correlations:**\n",
    "\n",
    "Distance (0.62): This is the strongest positive relationship, meaning Distance from CBD plays a major role.\n",
    "\n",
    "Landsize (0.59): A strong positive correlation with price. It indicates that properties with a higher Landsize generally command significantly higher prices.\n",
    "\n",
    "**Moderate Positive Correlations:**\n",
    "\n",
    "Car (0.46): A moderate positive relationship, meaning more Car are typically associated with higher values.\n",
    "\n",
    "Rooms/Bedroom (0.36): A moderate positive relationship, meaning more Rooms and Bedrooms are typically associated with higher property values.\n",
    "\n",
    "**High Multicollinearity:**\n",
    "\n",
    "Rooms, Bedroom, and Bathroom: These features are highly positively correlated with each other."
   ]
  },
  {
   "cell_type": "markdown",
   "metadata": {},
   "source": [
    "## 2. Data preprocessing and exploratory data analysis:"
   ]
  },
  {
   "cell_type": "markdown",
   "metadata": {},
   "source": [
    "### Create a copy and drop un-useful/noisy columns: "
   ]
  },
  {
   "cell_type": "code",
   "execution_count": 24,
   "metadata": {},
   "outputs": [],
   "source": [
    "# Create a copy of the original DataFrame\n",
    "housing_df_cleaned = housing_df.copy()\n",
    "\n",
    "# Drop the specified columns from the copy\n",
    "housing_df_cleaned.drop(['Address', 'Method'], axis=1, inplace=True)"
   ]
  },
  {
   "cell_type": "markdown",
   "metadata": {},
   "source": [
    "### A. One-Hot Encode Categorical Variables:"
   ]
  },
  {
   "cell_type": "markdown",
   "metadata": {},
   "source": [
    "### Purpose:\n",
    "Encode categorical variables (e.g., 'Property Type', 'Suburb') using one-hot encoding to make them suitable for regression models.\n",
    "\n",
    "- Extract 'Year' and 'Month' from the 'Date' column for temporal analysis.\n",
    "- Perform one-hot encoding on all relevant low-cardinality categorical columns."
   ]
  },
  {
   "cell_type": "code",
   "execution_count": 25,
   "metadata": {},
   "outputs": [],
   "source": [
    "# Extract Year and Month from 'Date'\n",
    "housing_df_cleaned['Date'] = pd.to_datetime(housing_df_cleaned['Date'], errors='coerce')  # Ensure date format is parsed\n",
    "housing_df_cleaned['SaleYear'] = housing_df_cleaned['Date'].dt.year\n",
    "housing_df_cleaned['SaleMonth'] = housing_df_cleaned['Date'].dt.month\n",
    "\n",
    "#Drop columns that are noisy, redundant, or too specific\n",
    "housing_df_cleaned.drop(['Date'], axis=1, inplace=True)\n",
    "\n",
    "# Clean 'SellerG' (group low-frequency categories into 'Other')\n",
    "top_sellers = housing_df_cleaned['SellerG'].value_counts().nlargest(10).index\n",
    "housing_df_cleaned['SellerG'] = housing_df_cleaned['SellerG'].apply(lambda x: x if x in top_sellers else 'Other')"
   ]
  },
  {
   "cell_type": "code",
   "execution_count": 26,
   "metadata": {},
   "outputs": [],
   "source": [
    "# List of categorical variables to one-hot encode\n",
    "categorical_cols = ['Suburb', 'Type', 'SellerG', 'CouncilArea', 'Regionname', 'Postcode']\n",
    "\n",
    "# One-hot encode (drop_first=True avoids multicollinearity)\n",
    "housing_df_encoded = pd.get_dummies(housing_df_cleaned, columns=categorical_cols, drop_first=True)\n",
    "\n",
    "# Reset index\n",
    "housing_df_encoded.reset_index(drop=True, inplace=True)"
   ]
  },
  {
   "cell_type": "markdown",
   "metadata": {},
   "source": [
    "### Analysis:\n",
    "- SaleYear and SaleMonth are extracted from the Date column, enabling temporal trend analysis or seasonal insights.\n",
    "\n",
    "- One-hot encoding is used on 6 categorical columns (Suburb, Type, SellerG, CouncilArea, Regionname, and Postcode). This converts categories into machine-learning-friendly numeric format.\n",
    "\n",
    "- We used drop_first=True to avoid dummy variable trap (perfect multicollinearity), which is good practice especially when using linear models.\n",
    "\n",
    "- For SellerG, we limited to the top 10 sellers and grouped others under 'other' to reduce dimensionality and noise."
   ]
  },
  {
   "cell_type": "code",
   "execution_count": 27,
   "metadata": {},
   "outputs": [
    {
     "data": {
      "text/html": [
       "<div>\n",
       "<style scoped>\n",
       "    .dataframe tbody tr th:only-of-type {\n",
       "        vertical-align: middle;\n",
       "    }\n",
       "\n",
       "    .dataframe tbody tr th {\n",
       "        vertical-align: top;\n",
       "    }\n",
       "\n",
       "    .dataframe thead th {\n",
       "        text-align: right;\n",
       "    }\n",
       "</style>\n",
       "<table border=\"1\" class=\"dataframe\">\n",
       "  <thead>\n",
       "    <tr style=\"text-align: right;\">\n",
       "      <th></th>\n",
       "      <th>Rooms</th>\n",
       "      <th>Distance</th>\n",
       "      <th>Bedroom</th>\n",
       "      <th>Bathroom</th>\n",
       "      <th>Car</th>\n",
       "      <th>Landsize</th>\n",
       "      <th>Latitude</th>\n",
       "      <th>Longitude</th>\n",
       "      <th>Price</th>\n",
       "      <th>SaleYear</th>\n",
       "      <th>...</th>\n",
       "      <th>CouncilArea_Bayside City</th>\n",
       "      <th>CouncilArea_City of Bayside</th>\n",
       "      <th>CouncilArea_City of Yarra</th>\n",
       "      <th>CouncilArea_Darebin (C)</th>\n",
       "      <th>Regionname_Inner Melbourne</th>\n",
       "      <th>Regionname_Inner South</th>\n",
       "      <th>Regionname_Melbourne - North</th>\n",
       "      <th>Regionname_Yarra</th>\n",
       "      <th>Postcode_3121</th>\n",
       "      <th>Postcode_3186</th>\n",
       "    </tr>\n",
       "  </thead>\n",
       "  <tbody>\n",
       "    <tr>\n",
       "      <th>0</th>\n",
       "      <td>4</td>\n",
       "      <td>10.99</td>\n",
       "      <td>4</td>\n",
       "      <td>2</td>\n",
       "      <td>3</td>\n",
       "      <td>386</td>\n",
       "      <td>-37.909000</td>\n",
       "      <td>144.996000</td>\n",
       "      <td>2801000</td>\n",
       "      <td>2025</td>\n",
       "      <td>...</td>\n",
       "      <td>0</td>\n",
       "      <td>1</td>\n",
       "      <td>0</td>\n",
       "      <td>0</td>\n",
       "      <td>0</td>\n",
       "      <td>0</td>\n",
       "      <td>0</td>\n",
       "      <td>0</td>\n",
       "      <td>0</td>\n",
       "      <td>1</td>\n",
       "    </tr>\n",
       "    <tr>\n",
       "      <th>1</th>\n",
       "      <td>4</td>\n",
       "      <td>10.99</td>\n",
       "      <td>4</td>\n",
       "      <td>2</td>\n",
       "      <td>2</td>\n",
       "      <td>406</td>\n",
       "      <td>-37.909000</td>\n",
       "      <td>144.996000</td>\n",
       "      <td>2658000</td>\n",
       "      <td>2025</td>\n",
       "      <td>...</td>\n",
       "      <td>0</td>\n",
       "      <td>1</td>\n",
       "      <td>0</td>\n",
       "      <td>0</td>\n",
       "      <td>0</td>\n",
       "      <td>0</td>\n",
       "      <td>0</td>\n",
       "      <td>0</td>\n",
       "      <td>0</td>\n",
       "      <td>1</td>\n",
       "    </tr>\n",
       "    <tr>\n",
       "      <th>2</th>\n",
       "      <td>2</td>\n",
       "      <td>10.99</td>\n",
       "      <td>2</td>\n",
       "      <td>2</td>\n",
       "      <td>1</td>\n",
       "      <td>75</td>\n",
       "      <td>-37.909000</td>\n",
       "      <td>144.996000</td>\n",
       "      <td>652000</td>\n",
       "      <td>2024</td>\n",
       "      <td>...</td>\n",
       "      <td>0</td>\n",
       "      <td>1</td>\n",
       "      <td>0</td>\n",
       "      <td>0</td>\n",
       "      <td>0</td>\n",
       "      <td>0</td>\n",
       "      <td>0</td>\n",
       "      <td>0</td>\n",
       "      <td>0</td>\n",
       "      <td>1</td>\n",
       "    </tr>\n",
       "    <tr>\n",
       "      <th>3</th>\n",
       "      <td>4</td>\n",
       "      <td>10.99</td>\n",
       "      <td>4</td>\n",
       "      <td>1</td>\n",
       "      <td>2</td>\n",
       "      <td>508</td>\n",
       "      <td>-37.909000</td>\n",
       "      <td>144.996000</td>\n",
       "      <td>2450000</td>\n",
       "      <td>2024</td>\n",
       "      <td>...</td>\n",
       "      <td>0</td>\n",
       "      <td>1</td>\n",
       "      <td>0</td>\n",
       "      <td>0</td>\n",
       "      <td>0</td>\n",
       "      <td>0</td>\n",
       "      <td>0</td>\n",
       "      <td>0</td>\n",
       "      <td>0</td>\n",
       "      <td>1</td>\n",
       "    </tr>\n",
       "    <tr>\n",
       "      <th>4</th>\n",
       "      <td>2</td>\n",
       "      <td>11.34</td>\n",
       "      <td>2</td>\n",
       "      <td>2</td>\n",
       "      <td>1</td>\n",
       "      <td>200</td>\n",
       "      <td>-37.913457</td>\n",
       "      <td>144.989124</td>\n",
       "      <td>1500000</td>\n",
       "      <td>2025</td>\n",
       "      <td>...</td>\n",
       "      <td>0</td>\n",
       "      <td>1</td>\n",
       "      <td>0</td>\n",
       "      <td>0</td>\n",
       "      <td>0</td>\n",
       "      <td>0</td>\n",
       "      <td>0</td>\n",
       "      <td>0</td>\n",
       "      <td>0</td>\n",
       "      <td>1</td>\n",
       "    </tr>\n",
       "  </tbody>\n",
       "</table>\n",
       "<p>5 rows × 36 columns</p>\n",
       "</div>"
      ],
      "text/plain": [
       "   Rooms  Distance  Bedroom  Bathroom  Car  Landsize   Latitude   Longitude  \\\n",
       "0      4     10.99        4         2    3       386 -37.909000  144.996000   \n",
       "1      4     10.99        4         2    2       406 -37.909000  144.996000   \n",
       "2      2     10.99        2         2    1        75 -37.909000  144.996000   \n",
       "3      4     10.99        4         1    2       508 -37.909000  144.996000   \n",
       "4      2     11.34        2         2    1       200 -37.913457  144.989124   \n",
       "\n",
       "     Price  SaleYear  ...  CouncilArea_Bayside City  \\\n",
       "0  2801000      2025  ...                         0   \n",
       "1  2658000      2025  ...                         0   \n",
       "2   652000      2024  ...                         0   \n",
       "3  2450000      2024  ...                         0   \n",
       "4  1500000      2025  ...                         0   \n",
       "\n",
       "   CouncilArea_City of Bayside  CouncilArea_City of Yarra  \\\n",
       "0                            1                          0   \n",
       "1                            1                          0   \n",
       "2                            1                          0   \n",
       "3                            1                          0   \n",
       "4                            1                          0   \n",
       "\n",
       "   CouncilArea_Darebin (C)  Regionname_Inner Melbourne  \\\n",
       "0                        0                           0   \n",
       "1                        0                           0   \n",
       "2                        0                           0   \n",
       "3                        0                           0   \n",
       "4                        0                           0   \n",
       "\n",
       "   Regionname_Inner South  Regionname_Melbourne - North  Regionname_Yarra  \\\n",
       "0                       0                             0                 0   \n",
       "1                       0                             0                 0   \n",
       "2                       0                             0                 0   \n",
       "3                       0                             0                 0   \n",
       "4                       0                             0                 0   \n",
       "\n",
       "   Postcode_3121  Postcode_3186  \n",
       "0              0              1  \n",
       "1              0              1  \n",
       "2              0              1  \n",
       "3              0              1  \n",
       "4              0              1  \n",
       "\n",
       "[5 rows x 36 columns]"
      ]
     },
     "execution_count": 27,
     "metadata": {},
     "output_type": "execute_result"
    }
   ],
   "source": [
    "# Display the first few rows and check\n",
    "housing_df_encoded.head()"
   ]
  },
  {
   "cell_type": "markdown",
   "metadata": {},
   "source": [
    "**Now we have 36 columns now after one-hot encoding.**"
   ]
  },
  {
   "cell_type": "markdown",
   "metadata": {},
   "source": [
    "### B. Create New Features:\n",
    "\n",
    "**Purpose:**\n",
    "Create additional meaningful features that may influence price (e.g., proximity to schools, Price per Sqr meter, etc.)"
   ]
  },
  {
   "cell_type": "markdown",
   "metadata": {},
   "source": [
    "### School Nearby:\n",
    "\n",
    "**Purpose:**\n",
    "Query the number of schools within a radius (1 km) for each property using OpenStreetMap."
   ]
  },
  {
   "cell_type": "code",
   "execution_count": 28,
   "metadata": {},
   "outputs": [
    {
     "name": "stderr",
     "output_type": "stream",
     "text": [
      "100%|████████████████████████████████████████████████████████████████████████████████| 178/178 [02:46<00:00,  1.07it/s]\n"
     ]
    }
   ],
   "source": [
    "# Latitude and Longitude of each house\n",
    "properties = housing_df_encoded[['Latitude', 'Longitude']].copy()\n",
    "properties.columns = ['lat', 'lon']  # rename for consistency\n",
    "\n",
    "# Helper function to query OSM Overpass API for nearby schools\n",
    "def count_schools_nearby(lat, lon, radius=1000):\n",
    "    query = f\"\"\"\n",
    "    [out:json];\n",
    "    (\n",
    "      node[\"amenity\"=\"school\"](around:{radius},{lat},{lon});\n",
    "      way[\"amenity\"=\"school\"](around:{radius},{lat},{lon});\n",
    "      relation[\"amenity\"=\"school\"](around:{radius},{lat},{lon});\n",
    "    );\n",
    "    out count;\n",
    "    \"\"\"\n",
    "    url = \"http://overpass-api.de/api/interpreter\"\n",
    "    try:\n",
    "        response = requests.post(url, data=query, timeout=30)\n",
    "        data = response.json()\n",
    "        return data['elements'][0]['tags']['total'] if data['elements'] else 0\n",
    "    except:\n",
    "        return 0  # fail gracefully\n",
    "\n",
    "# Apply to each row with a progress bar\n",
    "tqdm.pandas()\n",
    "housing_df_encoded['schools_nearby'] = properties.progress_apply(\n",
    "    lambda row: count_schools_nearby(row['lat'], row['lon']), axis=1\n",
    ")"
   ]
  },
  {
   "cell_type": "markdown",
   "metadata": {},
   "source": [
    "### Analysis:\n",
    "This feature quantifies educational access a strong influence on property value. Properties with more nearby schools often attract families and demand higher prices. Including this as a numeric feature enhances model accuracy, especially in suburban regions."
   ]
  },
  {
   "cell_type": "markdown",
   "metadata": {},
   "source": [
    "### Create Price Per Square Meter:\n",
    "\n",
    "**Purpose:**\n",
    "Check 'Landsize' and create this feature."
   ]
  },
  {
   "cell_type": "code",
   "execution_count": 29,
   "metadata": {},
   "outputs": [],
   "source": [
    "# Create 'PricePerSqMeter'\n",
    "# Handle cases where 'Landsize' might be zero or NaN to avoid division by zero\n",
    "housing_df_encoded['PricePerSqMeter'] = housing_df_encoded.apply(lambda row: row['Price'] / row['Landsize'] if row['Landsize'] > 0 else np.nan, axis=1)"
   ]
  },
  {
   "cell_type": "markdown",
   "metadata": {},
   "source": [
    "### Analysis:\n",
    "This feature will tell the average SQRMT value of property. Properties with more amenities and close to centre often attract families and demand higher prices. Including this as a numeric feature enhances model accuracy, especially in suburban regions."
   ]
  },
  {
   "cell_type": "code",
   "execution_count": 30,
   "metadata": {},
   "outputs": [
    {
     "data": {
      "text/html": [
       "<div>\n",
       "<style scoped>\n",
       "    .dataframe tbody tr th:only-of-type {\n",
       "        vertical-align: middle;\n",
       "    }\n",
       "\n",
       "    .dataframe tbody tr th {\n",
       "        vertical-align: top;\n",
       "    }\n",
       "\n",
       "    .dataframe thead th {\n",
       "        text-align: right;\n",
       "    }\n",
       "</style>\n",
       "<table border=\"1\" class=\"dataframe\">\n",
       "  <thead>\n",
       "    <tr style=\"text-align: right;\">\n",
       "      <th></th>\n",
       "      <th>Rooms</th>\n",
       "      <th>Distance</th>\n",
       "      <th>Bedroom</th>\n",
       "      <th>Bathroom</th>\n",
       "      <th>Car</th>\n",
       "      <th>Landsize</th>\n",
       "      <th>Latitude</th>\n",
       "      <th>Longitude</th>\n",
       "      <th>Price</th>\n",
       "      <th>SaleYear</th>\n",
       "      <th>...</th>\n",
       "      <th>CouncilArea_City of Yarra</th>\n",
       "      <th>CouncilArea_Darebin (C)</th>\n",
       "      <th>Regionname_Inner Melbourne</th>\n",
       "      <th>Regionname_Inner South</th>\n",
       "      <th>Regionname_Melbourne - North</th>\n",
       "      <th>Regionname_Yarra</th>\n",
       "      <th>Postcode_3121</th>\n",
       "      <th>Postcode_3186</th>\n",
       "      <th>schools_nearby</th>\n",
       "      <th>PricePerSqMeter</th>\n",
       "    </tr>\n",
       "  </thead>\n",
       "  <tbody>\n",
       "    <tr>\n",
       "      <th>0</th>\n",
       "      <td>4</td>\n",
       "      <td>10.99</td>\n",
       "      <td>4</td>\n",
       "      <td>2</td>\n",
       "      <td>3</td>\n",
       "      <td>386</td>\n",
       "      <td>-37.909000</td>\n",
       "      <td>144.996000</td>\n",
       "      <td>2801000</td>\n",
       "      <td>2025</td>\n",
       "      <td>...</td>\n",
       "      <td>0</td>\n",
       "      <td>0</td>\n",
       "      <td>0</td>\n",
       "      <td>0</td>\n",
       "      <td>0</td>\n",
       "      <td>0</td>\n",
       "      <td>0</td>\n",
       "      <td>1</td>\n",
       "      <td>3</td>\n",
       "      <td>7256.476684</td>\n",
       "    </tr>\n",
       "    <tr>\n",
       "      <th>1</th>\n",
       "      <td>4</td>\n",
       "      <td>10.99</td>\n",
       "      <td>4</td>\n",
       "      <td>2</td>\n",
       "      <td>2</td>\n",
       "      <td>406</td>\n",
       "      <td>-37.909000</td>\n",
       "      <td>144.996000</td>\n",
       "      <td>2658000</td>\n",
       "      <td>2025</td>\n",
       "      <td>...</td>\n",
       "      <td>0</td>\n",
       "      <td>0</td>\n",
       "      <td>0</td>\n",
       "      <td>0</td>\n",
       "      <td>0</td>\n",
       "      <td>0</td>\n",
       "      <td>0</td>\n",
       "      <td>1</td>\n",
       "      <td>3</td>\n",
       "      <td>6546.798030</td>\n",
       "    </tr>\n",
       "    <tr>\n",
       "      <th>2</th>\n",
       "      <td>2</td>\n",
       "      <td>10.99</td>\n",
       "      <td>2</td>\n",
       "      <td>2</td>\n",
       "      <td>1</td>\n",
       "      <td>75</td>\n",
       "      <td>-37.909000</td>\n",
       "      <td>144.996000</td>\n",
       "      <td>652000</td>\n",
       "      <td>2024</td>\n",
       "      <td>...</td>\n",
       "      <td>0</td>\n",
       "      <td>0</td>\n",
       "      <td>0</td>\n",
       "      <td>0</td>\n",
       "      <td>0</td>\n",
       "      <td>0</td>\n",
       "      <td>0</td>\n",
       "      <td>1</td>\n",
       "      <td>3</td>\n",
       "      <td>8693.333333</td>\n",
       "    </tr>\n",
       "    <tr>\n",
       "      <th>3</th>\n",
       "      <td>4</td>\n",
       "      <td>10.99</td>\n",
       "      <td>4</td>\n",
       "      <td>1</td>\n",
       "      <td>2</td>\n",
       "      <td>508</td>\n",
       "      <td>-37.909000</td>\n",
       "      <td>144.996000</td>\n",
       "      <td>2450000</td>\n",
       "      <td>2024</td>\n",
       "      <td>...</td>\n",
       "      <td>0</td>\n",
       "      <td>0</td>\n",
       "      <td>0</td>\n",
       "      <td>0</td>\n",
       "      <td>0</td>\n",
       "      <td>0</td>\n",
       "      <td>0</td>\n",
       "      <td>1</td>\n",
       "      <td>3</td>\n",
       "      <td>4822.834646</td>\n",
       "    </tr>\n",
       "    <tr>\n",
       "      <th>4</th>\n",
       "      <td>2</td>\n",
       "      <td>11.34</td>\n",
       "      <td>2</td>\n",
       "      <td>2</td>\n",
       "      <td>1</td>\n",
       "      <td>200</td>\n",
       "      <td>-37.913457</td>\n",
       "      <td>144.989124</td>\n",
       "      <td>1500000</td>\n",
       "      <td>2025</td>\n",
       "      <td>...</td>\n",
       "      <td>0</td>\n",
       "      <td>0</td>\n",
       "      <td>0</td>\n",
       "      <td>0</td>\n",
       "      <td>0</td>\n",
       "      <td>0</td>\n",
       "      <td>0</td>\n",
       "      <td>1</td>\n",
       "      <td>3</td>\n",
       "      <td>7500.000000</td>\n",
       "    </tr>\n",
       "  </tbody>\n",
       "</table>\n",
       "<p>5 rows × 38 columns</p>\n",
       "</div>"
      ],
      "text/plain": [
       "   Rooms  Distance  Bedroom  Bathroom  Car  Landsize   Latitude   Longitude  \\\n",
       "0      4     10.99        4         2    3       386 -37.909000  144.996000   \n",
       "1      4     10.99        4         2    2       406 -37.909000  144.996000   \n",
       "2      2     10.99        2         2    1        75 -37.909000  144.996000   \n",
       "3      4     10.99        4         1    2       508 -37.909000  144.996000   \n",
       "4      2     11.34        2         2    1       200 -37.913457  144.989124   \n",
       "\n",
       "     Price  SaleYear  ...  CouncilArea_City of Yarra  CouncilArea_Darebin (C)  \\\n",
       "0  2801000      2025  ...                          0                        0   \n",
       "1  2658000      2025  ...                          0                        0   \n",
       "2   652000      2024  ...                          0                        0   \n",
       "3  2450000      2024  ...                          0                        0   \n",
       "4  1500000      2025  ...                          0                        0   \n",
       "\n",
       "   Regionname_Inner Melbourne  Regionname_Inner South  \\\n",
       "0                           0                       0   \n",
       "1                           0                       0   \n",
       "2                           0                       0   \n",
       "3                           0                       0   \n",
       "4                           0                       0   \n",
       "\n",
       "   Regionname_Melbourne - North  Regionname_Yarra  Postcode_3121  \\\n",
       "0                             0                 0              0   \n",
       "1                             0                 0              0   \n",
       "2                             0                 0              0   \n",
       "3                             0                 0              0   \n",
       "4                             0                 0              0   \n",
       "\n",
       "   Postcode_3186  schools_nearby  PricePerSqMeter  \n",
       "0              1               3      7256.476684  \n",
       "1              1               3      6546.798030  \n",
       "2              1               3      8693.333333  \n",
       "3              1               3      4822.834646  \n",
       "4              1               3      7500.000000  \n",
       "\n",
       "[5 rows x 38 columns]"
      ]
     },
     "execution_count": 30,
     "metadata": {},
     "output_type": "execute_result"
    }
   ],
   "source": [
    "# Check the dataframe\n",
    "housing_df_encoded.head()"
   ]
  },
  {
   "cell_type": "markdown",
   "metadata": {},
   "source": [
    "**We have 38 columns now after adding 2 new features.**"
   ]
  },
  {
   "cell_type": "markdown",
   "metadata": {},
   "source": [
    "### C. Normalize or standardize numerical features:\n",
    "\n",
    "**Purpose:**\n",
    " Normalize or standardize numerical features so that they have a similar scale, improving model performance (especially for distance-based models or regularized regressions)."
   ]
  },
  {
   "cell_type": "code",
   "execution_count": 31,
   "metadata": {},
   "outputs": [
    {
     "data": {
      "text/plain": [
       "Rooms                             int64\n",
       "Distance                        float64\n",
       "Bedroom                           int64\n",
       "Bathroom                          int64\n",
       "Car                               int64\n",
       "Landsize                          int64\n",
       "Latitude                        float64\n",
       "Longitude                       float64\n",
       "Price                             int64\n",
       "SaleYear                          int64\n",
       "SaleMonth                         int64\n",
       "Suburb_Preston                    uint8\n",
       "Suburb_Richmond                   uint8\n",
       "Type_House                        uint8\n",
       "Type_Townhouse                    uint8\n",
       "Type_Unit                         uint8\n",
       "SellerG_Belle Property            uint8\n",
       "SellerG_Biggin Scott              uint8\n",
       "SellerG_Buxton                    uint8\n",
       "SellerG_Hockingstuart             uint8\n",
       "SellerG_Jellis Craig              uint8\n",
       "SellerG_Marshall White            uint8\n",
       "SellerG_Nelson Alexander          uint8\n",
       "SellerG_Other                     uint8\n",
       "SellerG_Raywhite                  uint8\n",
       "SellerG_Zed Real Estate           uint8\n",
       "CouncilArea_Bayside City          uint8\n",
       "CouncilArea_City of Bayside       uint8\n",
       "CouncilArea_City of Yarra         uint8\n",
       "CouncilArea_Darebin (C)           uint8\n",
       "Regionname_Inner Melbourne        uint8\n",
       "Regionname_Inner South            uint8\n",
       "Regionname_Melbourne - North      uint8\n",
       "Regionname_Yarra                  uint8\n",
       "Postcode_3121                     uint8\n",
       "Postcode_3186                     uint8\n",
       "schools_nearby                   object\n",
       "PricePerSqMeter                 float64\n",
       "dtype: object"
      ]
     },
     "execution_count": 31,
     "metadata": {},
     "output_type": "execute_result"
    }
   ],
   "source": [
    "housing_df_encoded.dtypes"
   ]
  },
  {
   "cell_type": "code",
   "execution_count": 32,
   "metadata": {},
   "outputs": [],
   "source": [
    "# Selecting numerical columns needs to normalize\n",
    "numeric_cols = ['Rooms', 'Distance', 'Bedroom', 'Bathroom', 'Car', 'Landsize', 'Latitude', \n",
    "                'Longitude','schools_nearby', 'PricePerSqMeter']\n",
    "\n",
    "scaler = StandardScaler()\n",
    "housing_df_encoded[numeric_cols] = scaler.fit_transform(housing_df_encoded[numeric_cols])"
   ]
  },
  {
   "cell_type": "markdown",
   "metadata": {},
   "source": [
    "### Analysis:\n",
    "Standardization centres features around zero with unit variance. This ensures that features like Landsize,  PricePerSqMeter, Distance etc. don't dominate others due to their magnitude.\n",
    "\n",
    "Scaling numerical features is important for many machine learning algorithms to prevent features with larger ranges from dominating the learning process.\n",
    "\n",
    "### Why we normalize all the numerical fields?\n",
    "\n",
    "All the numerical fields would generally benefit from normalization. Here's why and some specific considerations:\n",
    "\n",
    "**Landsize:** This is a prime candidate for scaling. Land sizes can vary significantly (e.g., from tens to thousands of square meters), so scaling will prevent it from disproportionately influencing distance-based calculations or model weights.\n",
    "\n",
    "**PricePerSqMeter:** Similar to Landsize, this derived metric can have a wide range of values. Scaling is highly recommended to bring it to a comparable scale with other features.\n",
    "\n",
    "**Distance**: This is a continuous variable that can span a considerable range. Scaling will ensure its magnitude doesn't overshadow other features.\n",
    "\n",
    "**Rooms, Bedroom, Bathroom, Car:** While these are integer counts and might have smaller ranges compared to Landsize or PricepersqMtr, their scales are still different from each other and from the larger-range variables. For instance, a property might have 2 bathrooms but a land size of 500 square meters. Scaling these features helps ensure that a difference of 1 room is treated proportionally to a difference in another scaled feature.\n",
    "\n",
    "**Latitude, Longitude:** These are geographical coordinates. Although their ranges are often relatively small (a few degrees), scaling them can still be beneficial. For instance, in distance-based algorithms, small differences in coordinates should be given appropriate weight relative to other features.\n",
    "\n",
    "**schools_nearby:** Depending on whether this represents a count, its range could vary. If it's a count that can be large, scaling would be important."
   ]
  },
  {
   "cell_type": "markdown",
   "metadata": {},
   "source": [
    "### D. Visualize of housing data:"
   ]
  },
  {
   "cell_type": "markdown",
   "metadata": {},
   "source": [
    "### Visualize Housing Price Distribution:\n",
    "**Purpose:**\n",
    "\n",
    "Understand the distribution of housing prices to check for skewness, peaks, or anomalies."
   ]
  },
  {
   "cell_type": "code",
   "execution_count": 33,
   "metadata": {},
   "outputs": [
    {
     "data": {
      "image/png": "[encoded data removed]",
      "text/plain": [
       "<Figure size 720x432 with 1 Axes>"
      ]
     },
     "metadata": {
      "needs_background": "light"
     },
     "output_type": "display_data"
    }
   ],
   "source": [
    "plt.figure(figsize=(10, 6))\n",
    "sns.histplot(housing_df_encoded['Price'], bins=50, kde=True)\n",
    "plt.title('Distribution of Housing Prices')\n",
    "plt.xlabel('Price')\n",
    "plt.ylabel('Frequency')\n",
    "plt.show()"
   ]
  },
  {
   "cell_type": "markdown",
   "metadata": {},
   "source": [
    "### Analysis:\n",
    "The histogram clearly shows that the distribution of property prices is highly right-skewed. This means that a large number of properties are sold at lower prices, while a much smaller number of properties command significantly higher prices.\n",
    "\n",
    "The peak of the distribution is towards the lower end of the price range, indicating that most properties in this dataset are relatively affordable."
   ]
  },
  {
   "cell_type": "markdown",
   "metadata": {},
   "source": [
    "### Correlation Heatmap (Feature-to-Target):\n",
    "\n",
    "**Purpose:**\n",
    "\n",
    "Visualize the correlation between features and the target variable (`Price`) to identify strong predictors."
   ]
  },
  {
   "cell_type": "code",
   "execution_count": 34,
   "metadata": {},
   "outputs": [
    {
     "data": {
      "image/png": "[encoded data removed]",
      "text/plain": [
       "<Figure size 720x576 with 2 Axes>"
      ]
     },
     "metadata": {
      "needs_background": "light"
     },
     "output_type": "display_data"
    }
   ],
   "source": [
    "# # Correlation Heatmap with only numeric features\n",
    "numeric_df = housing_df_encoded.select_dtypes(include=['int64', 'float64'])\n",
    "\n",
    "# Compute correlation with Price\n",
    "correlation_matrix = numeric_df.corr()\n",
    "\n",
    "# Plot heatmap\n",
    "plt.figure(figsize=(10, 8))\n",
    "sns.heatmap(correlation_matrix[['Price']].sort_values(by='Price', ascending=False), annot=True, cmap='coolwarm')\n",
    "plt.title('Correlation of Features with Price')\n",
    "plt.show()"
   ]
  },
  {
   "cell_type": "markdown",
   "metadata": {},
   "source": [
    "### Analysis:\n",
    "Based on the correlation heatmap, observations are as following:\n",
    "\n",
    "**Correlations with 'Price' (Target Variable)**\n",
    "\n",
    "**Strong Positive Correlations:**\n",
    "\n",
    "Distance (0.62): This is the strongest positive relationship, meaning Distance from CBD plays a major role.\n",
    "\n",
    "Landsize (0.59): A strong positive correlation with price. It indicates that properties with a higher Landsize generally command significantly higher prices.\n",
    "\n",
    "**Moderate Positive Correlations:**\n",
    "\n",
    "Car (0.46): A modarate positive relationship, meaning more Car are typically associated with higher values.\n",
    "\n",
    "PricePerSqMeter (0.37): A modarate positive relationship, meaning higher property values.\n",
    "\n",
    "Rooms/Bedroom (0.36): A modarate positive relationship, meaning more Rooms and Bedrooms are typically associated with higher property values.\n",
    "\n",
    "**High Multicollinearity:**\n",
    "\n",
    "Rooms, Bedroom: These features are highly positively correlated with each other."
   ]
  },
  {
   "cell_type": "markdown",
   "metadata": {},
   "source": [
    "### Outliers Detection:\n",
    "\n",
    "**Purpose:**\n",
    "    \n",
    "Identify outliers in numeric features using boxplots."
   ]
  },
  {
   "cell_type": "code",
   "execution_count": 35,
   "metadata": {},
   "outputs": [
    {
     "data": {
      "image/png": "[encoded data removed]",
      "text/plain": [
       "<Figure size 1080x576 with 1 Axes>"
      ]
     },
     "metadata": {
      "needs_background": "light"
     },
     "output_type": "display_data"
    }
   ],
   "source": [
    "plt.figure(figsize=(15, 8))\n",
    "sns.boxplot(x=housing_df_encoded['Price'])\n",
    "plt.title('Boxplot of House Prices (Outlier Detection)')\n",
    "plt.show()"
   ]
  },
  {
   "cell_type": "markdown",
   "metadata": {},
   "source": [
    "### Analysis:\n",
    "The boxplot identifies extreme values (outliers) in the price distribution. These outliers can distort model training. Didn't observe any outlier though it has a long whisker."
   ]
  },
  {
   "cell_type": "markdown",
   "metadata": {},
   "source": [
    "### E. Price Trend Over Time by Suburb:\n",
    "\n",
    "**Purpose:**\n",
    "\n",
    "Analyze price trends over time across different suburbs to detect market behaviour and seasonal fluctuations."
   ]
  },
  {
   "cell_type": "code",
   "execution_count": 36,
   "metadata": {},
   "outputs": [
    {
     "data": {
      "image/png": "[encoded data removed]",
      "text/plain": [
       "<Figure size 864x432 with 1 Axes>"
      ]
     },
     "metadata": {
      "needs_background": "light"
     },
     "output_type": "display_data"
    }
   ],
   "source": [
    "# Convert SaleYear to string for plotting\n",
    "housing_df['SaleYear_str'] = housing_df_encoded['SaleYear'].astype(str)\n",
    "\n",
    "# Now plot with SaleYear_str\n",
    "plt.figure(figsize=(12, 6))\n",
    "sns.lineplot(data=housing_df, x='SaleYear_str', y='Price', hue='Suburb', marker='o')\n",
    "plt.title('Price Trends Over Years by Suburb')\n",
    "plt.ylabel('Average Price')\n",
    "plt.xlabel('Sale Year')\n",
    "plt.legend(title='Suburb')\n",
    "plt.show()"
   ]
  },
  {
   "cell_type": "markdown",
   "metadata": {},
   "source": [
    "### Analysis:\n",
    "This visualization highlights whether prices in selected suburbs are increasing, stable, or volatile. Upward trends suggest strong growth suburbs, while flat or declining trends might imply saturation or lower demand.\n",
    "\n",
    "**Brighton** Suburb **Price** has gone up significantly whereas in **Preston** has gone down year-on-year basis. **Richmond** Price is very much stable."
   ]
  },
  {
   "cell_type": "markdown",
   "metadata": {},
   "source": [
    "## 3. Model Development and Evaluation:"
   ]
  },
  {
   "cell_type": "markdown",
   "metadata": {},
   "source": [
    "**Purpose:**\n",
    "\n",
    "Developed and evaluated three best regression models: **Linear Regression**, **Random Forest Regressor**, and **Gradient Boosting Regressor**. We use k-fold cross-validation to assess their performance robustly, mitigating bias from a single train-test split. The evaluation metrics used are Mean Absolute Error **(MAE)**, Root Mean Squared Error **(RMSE)**, and R-squared **(R^2)**."
   ]
  },
  {
   "cell_type": "markdown",
   "metadata": {},
   "source": [
    "### Data Preparation: Splitting Features and Target:\n",
    "\n",
    "**Purpose:**\n",
    "\n",
    "To separate the preprocessed dataframe into independent variables (features) and the dependent variable (target). This is a crucial first step before training any machine learning model."
   ]
  },
  {
   "cell_type": "code",
   "execution_count": 37,
   "metadata": {},
   "outputs": [],
   "source": [
    "# housing_df_encoded dataframe is aready for use\n",
    "X = housing_df_encoded.drop(columns=['Price'])\n",
    "y = housing_df_encoded['Price']"
   ]
  },
  {
   "cell_type": "markdown",
   "metadata": {},
   "source": [
    "**X is feature and y is target variable.**"
   ]
  },
  {
   "cell_type": "markdown",
   "metadata": {},
   "source": [
    "### Model Definition and K-Fold Cross-Validation:\n",
    "\n",
    "**Purpose:**\n",
    "\n",
    "Define and evaluate multiple regression models using k-fold cross-validation."
   ]
  },
  {
   "cell_type": "code",
   "execution_count": 38,
   "metadata": {},
   "outputs": [],
   "source": [
    "# Define models\n",
    "models = {\n",
    "    'Linear Regression': LinearRegression(),\n",
    "    'Random Forest Regressor': RandomForestRegressor(random_state=42),\n",
    "    'Gradient Boosting Regressor': GradientBoostingRegressor(random_state=42)\n",
    "}\n",
    "\n",
    "# Define k-fold cross-validation\n",
    "n_splits = 5 # Number of folds\n",
    "kf = KFold(n_splits=n_splits, shuffle=True, random_state=42)"
   ]
  },
  {
   "cell_type": "markdown",
   "metadata": {},
   "source": [
    "### Analysis: \n",
    "\n",
    "This section sets up a robust evaluation framework. K-Fold is used to split the data into training and testing sets multiple times,ensuring that the model's performance is not overly dependent on a single train-test split.\n",
    "\n",
    "Linear Regression, Random Forest, and Gradient Boosting are chosen for their distinct characteristics and common use in regression tasks.\n",
    "\n",
    "MAE, RMSE, and R-squared are calculated for each fold to provide a comprehensive view of model accuracy, error magnitude, and explanatory power."
   ]
  },
  {
   "cell_type": "markdown",
   "metadata": {},
   "source": [
    "### Model Training and Evaluation:\n",
    "\n",
    "**Purpose:**\n",
    "\n",
    "To train each selected model within the k-fold cross-validation framework and calculate the Mean Absolute Error (MAE), Root Mean Squared Error (RMSE), and R-squared (R^2) for each fold."
   ]
  },
  {
   "cell_type": "code",
   "execution_count": 39,
   "metadata": {},
   "outputs": [
    {
     "name": "stdout",
     "output_type": "stream",
     "text": [
      "\n",
      "--- Evaluating Linear Regression ---\n",
      "Fold 1: MAE=661782.26, RMSE=961488.34, R-squared=0.69\n",
      "Fold 2: MAE=811205.35, RMSE=1869794.32, R-squared=-0.17\n",
      "Fold 3: MAE=806681.72, RMSE=1122957.25, R-squared=0.59\n",
      "Fold 4: MAE=800056.85, RMSE=1078068.98, R-squared=0.60\n",
      "Fold 5: MAE=406714.87, RMSE=567557.68, R-squared=0.85\n",
      "  Average Linear Regression Performance:\n",
      "  Mean MAE: 697288.21 (Std: 155691.35)\n",
      "  Mean RMSE: 1119973.31 (Std: 422912.98)\n",
      "  Mean R-squared: 0.51 (Std: 0.35)\n",
      "\n",
      "--- Evaluating Random Forest Regressor ---\n",
      "Fold 1: MAE=263918.61, RMSE=525121.19, R-squared=0.91\n",
      "Fold 2: MAE=496643.89, RMSE=858465.48, R-squared=0.75\n",
      "Fold 3: MAE=507719.72, RMSE=945628.70, R-squared=0.71\n",
      "Fold 4: MAE=255282.86, RMSE=377603.09, R-squared=0.95\n",
      "Fold 5: MAE=280593.71, RMSE=546389.69, R-squared=0.86\n",
      "  Average Random Forest Regressor Performance:\n",
      "  Mean MAE: 360831.76 (Std: 115751.36)\n",
      "  Mean RMSE: 650641.63 (Std: 215119.51)\n",
      "  Mean R-squared: 0.84 (Std: 0.09)\n",
      "\n",
      "--- Evaluating Gradient Boosting Regressor ---\n",
      "Fold 1: MAE=194110.71, RMSE=332419.59, R-squared=0.96\n",
      "Fold 2: MAE=478180.99, RMSE=877735.86, R-squared=0.74\n",
      "Fold 3: MAE=306002.59, RMSE=622296.31, R-squared=0.87\n",
      "Fold 4: MAE=188209.22, RMSE=325359.41, R-squared=0.96\n",
      "Fold 5: MAE=182881.03, RMSE=270811.96, R-squared=0.97\n",
      "  Average Gradient Boosting Regressor Performance:\n",
      "  Mean MAE: 269876.91 (Std: 113731.32)\n",
      "  Mean RMSE: 485724.63 (Std: 231400.74)\n",
      "  Mean R-squared: 0.90 (Std: 0.09)\n"
     ]
    }
   ],
   "source": [
    "results = {} # Dictionary to store performance metrics for each model\n",
    "for name, model in models.items():\n",
    "    mae_scores = []\n",
    "    rmse_scores = []\n",
    "    r2_scores = []\n",
    "\n",
    "    print(f\"\\n--- Evaluating {name.replace('_', ' ')} ---\")\n",
    "    \n",
    "    # Training with K-Fold\n",
    "    for fold, (train_index, test_index) in enumerate(kf.split(X)):\n",
    "        X_train, X_test = X.iloc[train_index], X.iloc[test_index]\n",
    "        y_train, y_test = y.iloc[train_index], y.iloc[test_index]\n",
    "\n",
    "        model.fit(X_train, y_train)\n",
    "        y_pred = model.predict(X_test)\n",
    "\n",
    "        mae = mean_absolute_error(y_test, y_pred)\n",
    "        rmse = np.sqrt(mean_squared_error(y_test, y_pred))\n",
    "        r2 = r2_score(y_test, y_pred)\n",
    "\n",
    "        mae_scores.append(mae)\n",
    "        rmse_scores.append(rmse)\n",
    "        r2_scores.append(r2)\n",
    "\n",
    "        print(f\"Fold {fold+1}: MAE={mae:.2f}, RMSE={rmse:.2f}, R-squared={r2:.2f}\")\n",
    "\n",
    "    results[name] = {\n",
    "        'MAE_mean': np.mean(mae_scores),\n",
    "        'MAE_std': np.std(mae_scores),\n",
    "        'RMSE_mean': np.mean(rmse_scores),\n",
    "        'RMSE_std': np.std(rmse_scores),\n",
    "        'R2_mean': np.mean(r2_scores),\n",
    "        'R2_std': np.std(r2_scores)\n",
    "    }\n",
    "\n",
    "    print(f\"  Average {name.replace('_', ' ')} Performance:\")\n",
    "    print(f\"  Mean MAE: {results[name]['MAE_mean']:.2f} (Std: {results[name]['MAE_std']:.2f})\")\n",
    "    print(f\"  Mean RMSE: {results[name]['RMSE_mean']:.2f} (Std: {results[name]['RMSE_std']:.2f})\")\n",
    "    print(f\"  Mean R-squared: {results[name]['R2_mean']:.2f} (Std: {results[name]['R2_std']:.2f})\")"
   ]
  },
  {
   "cell_type": "markdown",
   "metadata": {},
   "source": [
    "### Analysis:\n",
    "\n",
    "- For each model, we iterate through the kf.split(X) to get the train and test indices for each fold.\n",
    "- The data is then split into X_train, X_test, y_train, and y_test based on these indices.\n",
    "- The model.fit(X_train, y_train) command trains the model on the training data.\n",
    "- model.predict(X_test) generates predictions on the unseen test data for the current fold.\n",
    "- MAE is calculated as the average of the absolute differences between predictions and actual values. It's easy to interpret and gives a clear picture of the average error magnitude.\n",
    "- RMSE is the square root of the average of the squared differences. It penalizes larger errors more heavily than MAE, making it sensitive to outliers.\n",
    "- R-squared (R^2) indicates the proportion of the variance in the target variable that is predictable from the independent variables. A higher R^2 indicates a better fit of the model to the data.\n",
    "- The metrics for each fold are collected, and then the mean and standard deviation are computed across all folds. The mean gives the average performance, while the standard deviation indicates the consistency (or variability) of the model's performance across different data subsets."
   ]
  },
  {
   "cell_type": "markdown",
   "metadata": {},
   "source": [
    "### Final Model Comparison:\n",
    "\n",
    "**Purpose:**\n",
    "\n",
    "To present a clear summary of the average performance metrics for all evaluated models, enabling a direct comparison."
   ]
  },
  {
   "cell_type": "code",
   "execution_count": 40,
   "metadata": {},
   "outputs": [
    {
     "name": "stdout",
     "output_type": "stream",
     "text": [
      "\n",
      "--- Final Model Comparison ---\n",
      "\n",
      "Model: Linear Regression\n",
      "  Mean MAE: 697288.21 +/- 155691.35\n",
      "  Mean RMSE: 1119973.31 +/- 422912.98\n",
      "  Mean R-squared: 0.51 +/- 0.35\n",
      "\n",
      "Model: Random Forest Regressor\n",
      "  Mean MAE: 360831.76 +/- 115751.36\n",
      "  Mean RMSE: 650641.63 +/- 215119.51\n",
      "  Mean R-squared: 0.84 +/- 0.09\n",
      "\n",
      "Model: Gradient Boosting Regressor\n",
      "  Mean MAE: 269876.91 +/- 113731.32\n",
      "  Mean RMSE: 485724.63 +/- 231400.74\n",
      "  Mean R-squared: 0.90 +/- 0.09\n"
     ]
    }
   ],
   "source": [
    "print(\"\\n--- Final Model Comparison ---\")\n",
    "for name, metrics in results.items():\n",
    "    print(f\"\\nModel: {name}\")\n",
    "    print(f\"  Mean MAE: {metrics['MAE_mean']:.2f} +/- {metrics['MAE_std']:.2f}\")\n",
    "    print(f\"  Mean RMSE: {metrics['RMSE_mean']:.2f} +/- {metrics['RMSE_std']:.2f}\")\n",
    "    print(f\"  Mean R-squared: {metrics['R2_mean']:.2f} +/- {metrics['R2_std']:.2f}\")"
   ]
  },
  {
   "cell_type": "markdown",
   "metadata": {},
   "source": [
    "### Analysis: \n",
    "\n",
    "This final summary allows for an easy comparison of the models' effectiveness. We look at the mean MAE, RMSE, and R^2 values, along with their standard deviations, to understand both average performance and consistency."
   ]
  },
  {
   "cell_type": "markdown",
   "metadata": {},
   "source": [
    "### Conclusion of Model Development:"
   ]
  },
  {
   "cell_type": "markdown",
   "metadata": {},
   "source": [
    "**Based on the evaluation using 5-fold cross-validation:**\n",
    "\n",
    "- **Linear Regression** showed an average R^2 of 0.51, with mean MAE of approximately ${$697,288}$ and RMSE of ${$1,119,973}$. While it provides a basic benchmark, its relatively lower accuracy and higher error suggest that it may not be the most reliable model for this task.\n",
    "\n",
    "- **Random Forest Regressor** achieved a higher average R^2 of 0.84, with a significantly lower mean MAE of approximately ${$360,831}$ and RMSE of ${$650,641}$. This indicates that the Random Forest model is much better at capturing complex patterns in the data compared to Linear Regression.\n",
    "\n",
    "- **Gradient Boosting Regressor** outperformed the other models, achieving the highest average R^2 of 0.90. It had lowest mean MAE of approximately ${$269,876}$ and RMSE of ${$485,724}$. This suggests that Gradient Boosting not only provides the most accurate predictions but also generalizes well to unseen data.\n",
    "\n",
    "In summary, both Gradient Boosting Regressor and Random Forest Regressor are significantly better suited for predicting Melbourne housing prices than a simple Linear Regression model, likely due to their ability to model non-linear relationships and handle feature interactions. Gradient Boosting shows a slight edge in terms of average error metrics. The k-fold cross-validation demonstrates that these performance metrics are robust and not merely results of a single data split."
   ]
  },
  {
   "cell_type": "markdown",
   "metadata": {},
   "source": [
    "## 4. Feature Importance:"
   ]
  },
  {
   "cell_type": "markdown",
   "metadata": {},
   "source": [
    "**Goal:**\n",
    "\n",
    "To identify which features most influence housing prices using model-based and statistical methods. This helps interpret the model, prioritize important variables, and guide future decision-making in real estate pricing.\n",
    "\n",
    "You can do this using:\n",
    "\n",
    "- Model-specific methods (Random Forest, Gradient Boosting)\n",
    "- Model-agnostic methods like SHAP values\n",
    "\n",
    "Also Save the model as pickel file for future use."
   ]
  },
  {
   "cell_type": "markdown",
   "metadata": {},
   "source": [
    "### Fit tree-based models:\n",
    "\n",
    "**Purpose:**\n",
    "\n",
    "Use a tree-based model because it provides built-in feature importance based on how much each feature reduces impurity across trees."
   ]
  },
  {
   "cell_type": "code",
   "execution_count": 41,
   "metadata": {},
   "outputs": [
    {
     "data": {
      "text/plain": [
       "GradientBoostingRegressor(random_state=42)"
      ]
     },
     "execution_count": 41,
     "metadata": {},
     "output_type": "execute_result"
    }
   ],
   "source": [
    "rf_model = RandomForestRegressor(random_state=42)\n",
    "rf_model.fit(X, y)\n",
    "\n",
    "gb_model = GradientBoostingRegressor(random_state=42)\n",
    "gb_model.fit(X, y)"
   ]
  },
  {
   "cell_type": "markdown",
   "metadata": {},
   "source": [
    "### Extract and Plot Feature Importances:\n",
    "\n",
    "**Purpose:**\n",
    "\n",
    "This shows which features the Random Forest and Gradient Boost models relied on most when predicting house prices."
   ]
  },
  {
   "cell_type": "code",
   "execution_count": 42,
   "metadata": {},
   "outputs": [
    {
     "data": {
      "image/png": "[encoded data removed]",
      "text/plain": [
       "<Figure size 720x432 with 1 Axes>"
      ]
     },
     "metadata": {
      "needs_background": "light"
     },
     "output_type": "display_data"
    },
    {
     "data": {
      "image/png": "[encoded data removed]",
      "text/plain": [
       "<Figure size 720x432 with 1 Axes>"
      ]
     },
     "metadata": {
      "needs_background": "light"
     },
     "output_type": "display_data"
    }
   ],
   "source": [
    "def plot_feature_importance(model, model_name):\n",
    "    importances = model.feature_importances_\n",
    "    indices = np.argsort(importances)[::-1]\n",
    "    features = X.columns[indices]\n",
    "\n",
    "    plt.figure(figsize=(10, 6))\n",
    "    plt.title(f\"{model_name} - Feature Importances\")\n",
    "    plt.bar(range(len(features)), importances[indices], align=\"center\")\n",
    "    plt.xticks(range(len(features)), features, rotation=90)\n",
    "    plt.tight_layout()\n",
    "    plt.show()\n",
    "\n",
    "plot_feature_importance(rf_model, \"Random Forest\")\n",
    "plot_feature_importance(gb_model, \"Gradient Boosting\")"
   ]
  },
  {
   "cell_type": "markdown",
   "metadata": {},
   "source": [
    "### Analysis:\n",
    "\n",
    "- PricePerSqMeter, LandSize, and Distance are among the most influential features in both.\n",
    "- Features like Postcode, and Latitude/Longitude have moderate influence.\n",
    "- Features like Car, Bathroom, and Latitude/Longitude have minimum influence.\n",
    "\n",
    "This method uses internal node splitting scores in trees, which is fast and intuitive but may be biased toward features with more categories or continuous scale."
   ]
  },
  {
   "cell_type": "markdown",
   "metadata": {},
   "source": [
    "### Use SHAP for Deeper Explainability:\n",
    "\n",
    "**Purpose:**\n",
    "    \n",
    "SHAP explains how each feature contributes to each prediction (positive or negative), offering local and global explanations.\n",
    "\n",
    "- SHAP Summary Plot shows:\n",
    "    - Feature importance (by mean SHAP value)\n",
    "    - How feature values affect predictions"
   ]
  },
  {
   "cell_type": "code",
   "execution_count": 43,
   "metadata": {},
   "outputs": [
    {
     "data": {
      "image/png": "[encoded data removed]",
      "text/plain": [
       "<Figure size 576x396 with 1 Axes>"
      ]
     },
     "metadata": {
      "needs_background": "light"
     },
     "output_type": "display_data"
    }
   ],
   "source": [
    "# Initialize SHAP explainer for Tree-based models\n",
    "explainer = shap.TreeExplainer(gb_model)\n",
    "shap_values = explainer.shap_values(X_train)\n",
    "\n",
    "# Summary plot\n",
    "shap.summary_plot(shap_values, X_train, plot_type='bar', max_display=10)"
   ]
  },
  {
   "cell_type": "markdown",
   "metadata": {},
   "source": [
    "### Analysis – SHAP Values:\n",
    "\n",
    "- SHAP confirms that PricePerSqMeter, LandSize, and CouncilArea_City of Yarra have the strongest influence on predicted price.\n",
    "\n",
    "- SHAP adds more insight by showing direction (e.g., whether high distance reduces price).\n",
    "\n",
    "- SHAP is model-agnostic and consistent explanation method, making it more reliable for feature attributions."
   ]
  },
  {
   "cell_type": "markdown",
   "metadata": {},
   "source": [
    "### Conclusion for Feature Importance:\n",
    "\n",
    "**We used two techniques:**\n",
    "\n",
    "- Tree based (Gradient Boosting and Random Forest) feature importances to get a quick ranking of influential features.\n",
    "- SHAP values to understand both importance and the effect direction of each feature.\n",
    "\n",
    "**These insights help:**\n",
    "\n",
    "- Improve model trustworthiness\n",
    "- Perform feature selection (drop weak features)\n",
    "- Communicate findings to non-technical stakeholders\n",
    "\n",
    "Based on the feature importance analysis several key features consistently stand out as having the most influence on housing prices:\n",
    "\n",
    "**PricePerSqMeter:** This engineered feature consistently ranks as the most important. This is highly intuitive, as the price per square meter directly reflects the value density of a property and is often a primary driver of overall price, especially in urban areas.\n",
    "\n",
    "**Landsize:** These core property attributes, representing the size of the land and the building, respectively, are consistently important. Larger properties areas tend to have higher prices.\n",
    "\n",
    "**Distance:** The distance to the city centre or key amenities is also a highly influential factor, as expected. Properties closer to desirable locations often have higher values.\n",
    "\n",
    "**Longitude and Latitude:** These geographical coordinates are very important, indicating that location plays a significant role in determining housing prices. This aligns with real-world understanding that specific neighbourhoods or areas command different values.\n",
    "\n",
    "**Bedroom and Bathroom:** The number of rooms and bathrooms also contributes significantly, reflecting the size and utility of the house.\n",
    "\n",
    "In summary, the models highlight that fundamental property characteristics (size, number of rooms/bathrooms), geographical location (coordinates, distance), and a derived value density metric (price per square meter) are the primary drivers of housing prices in the Melbourne dataset. These insights can be invaluable for real estate analysis, guiding decisions for both buyers and sellers, and for further refining predictive models.\n",
    "\n",
    "**Final takeaway:** Features like PricePerSqMeter (engineered), Landsize, and Distance are usually among the most influential for housing prices in Melbourne. SHAP plots confirmed not just importance but how each feature affects pricing."
   ]
  },
  {
   "cell_type": "markdown",
   "metadata": {},
   "source": [
    "### Save the Model:\n",
    "\n",
    "Choose the best model based on performance (Gradient Boosting), then build a Gradio or Streamlit app."
   ]
  },
  {
   "cell_type": "code",
   "execution_count": 44,
   "metadata": {},
   "outputs": [
    {
     "name": "stdout",
     "output_type": "stream",
     "text": [
      "Model, scaler, and column list saved successfully.\n"
     ]
    }
   ],
   "source": [
    "# Save model, scaler, and feature columns\n",
    "save_dict = {\n",
    "    'model': gb_model,\n",
    "    'scaler': scaler,\n",
    "    'numeric_cols': numeric_cols,\n",
    "    'feature_cols': X.columns.tolist()\n",
    "}\n",
    "\n",
    "# Save to a file\n",
    "joblib.dump(save_dict, 'house_price_model_GB.pkl')\n",
    "print(\"Model, scaler, and column list saved successfully.\")"
   ]
  },
  {
   "cell_type": "markdown",
   "metadata": {},
   "source": [
    "**Best performance model is saved as \"house_price_model_GB.pkl\" file for future use.**"
   ]
  },
  {
   "cell_type": "markdown",
   "metadata": {},
   "source": [
    "## 5. Model Deployment: Web Demo Application:"
   ]
  },
  {
   "cell_type": "markdown",
   "metadata": {},
   "source": [
    "**Purpose:**\n",
    "\n",
    "The purpose of deploying your model as a web demo is multifaceted:\n",
    "\n",
    "**Accessibility:** It makes the predictive power of your model accessible to non-technical users who may not have programming knowledge or access to the development environment.\n",
    "\n",
    "**Demonstration & Portability:** It provides a tangible and shareable demonstration of your project's outcome, showcasing your ability to not only build models but also to deploy them. This is crucial for portfolio building and presenting your work.\n",
    "\n",
    "**Real-world Applicability:** It mimics a real-world scenario where a machine learning model is integrated into a system for practical use, highlighting the potential for informed decision-making in the real estate market.\n",
    "\n",
    "**Feedback Loop (Potential):** While a simple demo, it lays the groundwork for collecting user feedback and understanding how the model's predictions are perceived, which can inform future model improvements.\n",
    "\n",
    "**Validation:** It helps validate the model's functionality and user experience in a simulated production environment."
   ]
  },
  {
   "cell_type": "markdown",
   "metadata": {},
   "source": [
    "### Load and test the model in python:\n",
    "\n",
    "**Purpose:**\n",
    "\n",
    "To ensure that model is getting loaded and predicting locally in python first before deploying as web-application."
   ]
  },
  {
   "cell_type": "code",
   "execution_count": 45,
   "metadata": {},
   "outputs": [],
   "source": [
    "# Load the saved model, scaler, and feature list\n",
    "loaded_dict = joblib.load('house_price_model_GB.pkl')\n",
    "model = loaded_dict['model']\n",
    "scaler = loaded_dict['scaler']\n",
    "numeric_cols = loaded_dict['numeric_cols']\n",
    "feature_cols = loaded_dict['feature_cols']\n",
    "\n",
    "\n",
    "# Example raw user input 18 features (with encoded subfeatures for catagorical columns)\n",
    "user_input = {\n",
    "    'Rooms': 3,\n",
    "    'Distance': 5.5,\n",
    "    'Bedroom': 3,\n",
    "    'Bathroom': 1,\n",
    "    'Car': 2,\n",
    "    'Landsize': 500,\n",
    "    'Latitude': -37.81,\n",
    "    'Longitude': 144.96,\n",
    "    'schools_nearby': 4,\n",
    "    'PricePerSqMeter': 3000,\n",
    "    'Suburb': 'Richmond',\n",
    "    'Type': 'h',\n",
    "    'SellerG': 'Buxton',\n",
    "    'CouncilArea': 'City of Bayside',\n",
    "    'Regionname': 'Inner Melbourne',\n",
    "    'Postcode': 3121,\n",
    "    'SaleYear': 2024,\n",
    "    'SaleMonth': 6\n",
    "}\n",
    "\n",
    "# Convert to DataFrame\n",
    "input_df = pd.DataFrame([user_input])"
   ]
  },
  {
   "cell_type": "code",
   "execution_count": 46,
   "metadata": {},
   "outputs": [
    {
     "name": "stdout",
     "output_type": "stream",
     "text": [
      "Predicted Price: $1,639,331.40\n"
     ]
    }
   ],
   "source": [
    "# Handle categorical encoding\n",
    "\n",
    "# Group SellerG like in training (group low-frequency categories into 'Other')\n",
    "top_sellers = ['Jellis', 'Biggin', 'Nelson', 'Buxton', 'Kay', 'Zed', 'Raywhite', \n",
    "               'Marshall', 'Hocking', 'Other']\n",
    "input_df['SellerG'] = input_df['SellerG'].apply(lambda x: x if x in top_sellers else 'Other')\n",
    "\n",
    "# Apply one-hot encoding with same categories used in training\n",
    "categorical_cols = ['Suburb', 'Type', 'SellerG', 'CouncilArea', 'Regionname', 'Postcode']\n",
    "input_df_encoded = pd.get_dummies(input_df, columns=categorical_cols, drop_first=True)\n",
    "\n",
    "# Add any missing columns from training and ensure correct order\n",
    "for col in feature_cols:\n",
    "    if col not in input_df_encoded.columns:\n",
    "        input_df_encoded[col] = 0  # Add missing one-hot column\n",
    "input_df_encoded = input_df_encoded[feature_cols]  # Reorder columns\n",
    "\n",
    "# Scale numeric features\n",
    "input_df_encoded[numeric_cols] = scaler.transform(input_df_encoded[numeric_cols])\n",
    "\n",
    "# Predict\n",
    "predicted_price = model.predict(input_df_encoded)\n",
    "print(f\"Predicted Price: ${predicted_price[0]:,.2f}\")"
   ]
  },
  {
   "cell_type": "markdown",
   "metadata": {},
   "source": [
    "**Model is getting loaded, taking dummy user input and predicting the price.**"
   ]
  },
  {
   "cell_type": "markdown",
   "metadata": {},
   "source": [
    "### Web Demo Application:\n",
    "\n",
    "Decided to use Streamlit package to deploy best fit model. "
   ]
  },
  {
   "cell_type": "markdown",
   "metadata": {},
   "source": [
    "**Features:**\n",
    "- The Model has total 18 features (with subfeatures - one hot encoded) and 1 target variable.\n",
    "\n",
    "**Grid Layout: Application UI**\n",
    "- Designed compact Grid Layout (3 Columns x 4 Rows) for highly influential features.\n",
    "- Advanced option (Hidden) Grid Layout (3 Columns x 2 Rows) for less important features.\n",
    "\n",
    "**Prediction:**\n",
    "- Added Predict Button to trigger the inference of the model and give result.\n",
    "\n",
    "**Additional: UI Clean**\n",
    "- Set page width properly for better UX.\n",
    "- Shorten labels: “Price per sqm” instead of “Price per square meter”, etc.\n",
    "- Avoid unnecessary markdown/headers above input."
   ]
  },
  {
   "cell_type": "markdown",
   "metadata": {},
   "source": [
    "### streamlit_app\n",
    "\n",
    "- Install streamlit using \"pip install streamlit\" to use streamlit package in your program..\n",
    "- The python code for application is saved as **streamlit_app.py**.\n",
    "- A command line call is made to run the streamlit_app using **streamlit run streamlit_app.py**\n",
    "- A path is set properly to locate model **house_price_model_GB.pkl** and application **streamlit_app.py**\n",
    "- Scaled features were used to train the model. While allowing user to enter the data (features) to get the price prediction (should allow un-scaled) version files so that they can relate the input with requirement properly."
   ]
  },
  {
   "cell_type": "markdown",
   "metadata": {},
   "source": [
    "## Overall Conclusion:\n",
    "\n",
    "This project successfully demonstrated the development and deployment of a machine learning pipeline for predicting housing prices in Melbourne using real-world data. Through five systematically executed stages — data acquisition, preprocessing and exploratory analysis, model development, feature interpretation, and deployment — we built a robust, insightful, and accessible solution to a practical real estate problem.\n",
    "\n",
    "In the data acquisition phase, we ensured a diverse and representative dataset by collecting over 150 housing records across three distinct Melbourne suburbs. This geographic diversity helped build a model capable of generalizing better to unseen data within the urban housing market.\n",
    "\n",
    "During data preprocessing and exploratory data analysis (EDA), we performed key steps such as handling categorical variables through one-hot encoding, scaling numerical features, generating new variables (like sale year and number of nearby schools), and identifying outliers. Visualizations provided deep insights into price distribution, temporal trends, and suburb-level variations, enabling more informed modeling decisions.\n",
    "\n",
    "For model development, we evaluated multiple regression models including Linear Regression, Random Forest, and Gradient Boosting. Models were rigorously assessed using k-fold cross-validation and performance metrics such as MAE, RMSE, and R-squared. Ensemble models, particularly Random Forest and Gradient Boosting, outperformed simpler models by capturing complex, nonlinear interactions among features.\n",
    "\n",
    "In the feature importance phase, we combined model-based interpretability (from Random Forest and Gradient Boosting) and model-agnostic methods (SHAP values) to understand the contribution of each feature. SHAP visualizations provided both global and local explanations, making the model's decision process transparent and trustworthy. Key predictors included the number of PricePerSqrMeter, building area, distance to CBD, and suburb confirming well-known housing price drivers.\n",
    "\n",
    "Finally, the project culminated in the deployment of a functional, interactive web application using Streamlit. The app enables users to input property features and receive real-time price predictions, making the model accessible to a broader audience such as homebuyers, real estate agents, and property investors. This not only demonstrates the applicability of machine learning in real-world scenarios but also transforms academic work into a practical tool.\n",
    "\n",
    "**Key Contributions:**\n",
    "\n",
    "- Built a realistic ML solution tailored to Melbourne housing data.\n",
    "- Applied rigorous modeling and evaluation techniques.\n",
    "- Delivered interpretability and usability via feature analysis and a deployable web app.\n",
    "- Demonstrated a full machine learning pipeline from raw data to user interface.\n",
    "\n",
    "**In summary**, this project is a strong example of applying data science to a high-impact, real-world problem. It balances technical accuracy, model performance, interpretability, and user experience — reflecting industry-ready machine learning workflow best practices."
   ]
  },
  {
   "cell_type": "markdown",
   "metadata": {},
   "source": [
    "## References:"
   ]
  },
  {
   "cell_type": "markdown",
   "metadata": {},
   "source": [
    "I have used the following materials in the completion of this task:\n",
    "\n",
    "Scikit-learn: Pedregosa, F., et al. (2011). Scikit-learn: Machine Learning in Python. Journal of Machine Learning Research, 12, pp.2825–2830.\n",
    "\n",
    "Scikit-learn documentation. Retrieved from https://scikit-learn.org/stable/\n",
    "\n",
    "Matplotlib documentation. Retrieved from https://matplotlib.org/stable/\n",
    "\n",
    "Seaborn documentation. Retrieved from https://seaborn.pydata.org/\n",
    "\n",
    "Pandas documentation. Retrieved from https://pandas.pydata.org/\n",
    "\n",
    "Kluyver, T., Ragan-Kelley, B., Pérez, F., Granger, B. E., Bussonnier, M., Frederic, J., ... & Willing, C. (2016). Jupyter Notebooks – a publishing format for reproducible computational workflows. In F. Loizides & B. Schmidt (Eds.), Positioning and Power in Academic Publishing: Players, Agents and Agendas (pp. 87–90). IOS Press. https://doi.org/10.3233/978-1-61499-649-1-87\n",
    "\n",
    "Python Software Foundation. (2023). Python (Version 3.11) [Computer software]. https://www.python.org/\n",
    "\n",
    "Moro, S., Rita, P., & Cortez, P. (2014). Bank Marketing [Dataset]. UCI Machine Learning Repository. https://doi.org/10.24432/C5K306.\n",
    "\n",
    "Arzamasov, V. (2018). Electrical Grid Stability Simulated Data  [Dataset]. UCI Machine Learning Repository. https://doi.org/10.24432/C5PG66.\n",
    "\n",
    "Streamlit. \"Streamlit: The Fastest Way to Build and Share Data Apps.\" Accessed [Current Date, e.g., July 26, 2025]. https://streamlit.io/"
   ]
  },
  {
   "cell_type": "markdown",
   "metadata": {},
   "source": [
    "## THE END ##"
   ]
  },
  {
   "cell_type": "code",
   "execution_count": null,
   "metadata": {},
   "outputs": [],
   "source": []
  }
 ],
 "metadata": {
  "kernelspec": {
   "display_name": "Python 3",
   "language": "python",
   "name": "python3"
  },
  "language_info": {
   "codemirror_mode": {
    "name": "ipython",
    "version": 3
   },
   "file_extension": ".py",
   "mimetype": "text/x-python",
   "name": "python",
   "nbconvert_exporter": "python",
   "pygments_lexer": "ipython3",
   "version": "3.7.6"
  }
 },
 "nbformat": 4,
 "nbformat_minor": 4
}
